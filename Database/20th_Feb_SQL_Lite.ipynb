{
 "cells": [
  {
   "cell_type": "code",
   "execution_count": 2,
   "id": "683c15bc",
   "metadata": {},
   "outputs": [],
   "source": [
    "import sqlite3"
   ]
  },
  {
   "cell_type": "code",
   "execution_count": 2,
   "id": "6f671b9c",
   "metadata": {},
   "outputs": [],
   "source": [
    "db=sqlite3.connect(\"ineuron.db\")\n",
    "\n",
    "# create a file to store a data and .db means only store structured data\n",
    "# file name is ineuron where data will save."
   ]
  },
  {
   "cell_type": "code",
   "execution_count": 3,
   "id": "add25dcb",
   "metadata": {},
   "outputs": [
    {
     "name": "stdout",
     "output_type": "stream",
     "text": [
      " Volume in drive C has no label.\n",
      " Volume Serial Number is 1004-C407\n",
      "\n",
      " Directory of C:\\Users\\vijay\\OneDrive\\Desktop\\Data_Science\\Python_Classes\n",
      "\n",
      "04/18/2022  11:09 AM    <DIR>          .\n",
      "04/18/2022  11:09 AM    <DIR>          ..\n",
      "04/15/2022  12:04 PM    <DIR>          .ipynb_checkpoints\n",
      "02/16/2022  12:24 PM    <DIR>          __pycache__\n",
      "04/13/2022  03:03 PM            20,039 13th_Feb_mogngodb.ipynb\n",
      "02/02/2022  02:48 PM            22,955 15th_Jan.ipynb\n",
      "02/01/2022  10:16 PM            15,272 15th_jan_Logging.ipynb\n",
      "01/24/2022  01:26 PM            53,959 19Th_Dec_Fun_Practice_Prob.ipynb\n",
      "04/18/2022  11:09 AM            28,268 20th_Feb_SQL_Lite.ipynb\n",
      "02/07/2022  08:38 PM            13,415 22_Jan_22.ipynb\n",
      "02/16/2022  12:22 PM            15,574 23_jan_01.ipynb\n",
      "02/16/2022  12:39 PM             2,640 23_jan_02.ipynb\n",
      "02/23/2022  12:20 PM            17,068 29_jan.ipynb\n",
      "03/20/2022  11:22 AM            69,008 5th_feb_SQL.ipynb\n",
      "03/24/2022  07:03 PM           556,171 6th_Feb_SQL.ipynb\n",
      "01/13/2022  12:46 PM            30,008 8th_Jan_22.ipynb\n",
      "01/23/2022  07:49 PM            16,792 9th_Jan.ipynb\n",
      "03/24/2022  07:38 PM            51,867 car.data\n",
      "03/08/2022  12:17 PM            11,903 glass (1).data\n",
      "01/24/2022  12:24 PM             5,060 google.txt\n",
      "04/15/2022  01:49 PM             8,192 ineuron.db\n",
      "04/03/2022  08:33 PM            57,313 mongodb class 1.ipynb\n",
      "02/04/2022  08:02 PM               223 my_module.py\n",
      "02/04/2022  08:01 PM               219 my_module.py.bak\n",
      "02/16/2022  12:23 PM               655 mydict.py\n",
      "02/16/2022  12:21 PM                 0 mydict.py.bak\n",
      "04/15/2022  02:13 PM                 0 person.db\n",
      "04/15/2022  02:16 PM             8,192 pesron.db\n",
      "03/08/2022  12:22 PM            80,353 SQL basic .ipynb\n",
      "03/24/2022  06:45 PM           358,223 sql day 2 .ipynb\n",
      "02/02/2022  02:46 PM             4,053 test.log\n",
      "01/26/2022  11:50 AM                16 test.txt\n",
      "02/04/2022  01:56 PM               187 test1.py\n",
      "02/04/2022  01:53 PM               187 test1.py.bak\n",
      "02/01/2022  07:37 PM                23 test1.txt\n",
      "02/01/2022  09:57 PM                 0 test2.log\n",
      "02/04/2022  01:48 PM                 0 test2.py\n",
      "01/24/2022  10:39 AM                20 test2.txt\n",
      "01/24/2022  10:39 AM                23 test3.txt\n",
      "02/01/2022  07:37 PM                 0 test43.txt\n",
      "01/23/2022  08:24 PM                85 test5\n",
      "01/24/2022  10:39 AM                65 test5.txt\n",
      "03/28/2022  12:47 PM            64,527 Untitled.ipynb\n",
      "              39 File(s)      1,512,555 bytes\n",
      "               4 Dir(s)  91,197,386,752 bytes free\n"
     ]
    }
   ],
   "source": [
    "ls"
   ]
  },
  {
   "cell_type": "code",
   "execution_count": 4,
   "id": "650bee61",
   "metadata": {},
   "outputs": [],
   "source": [
    "c = db.cursor()\n",
    "\n",
    "#c is a cursor variable, pointer which is responsible for executing each and \n",
    "# every query "
   ]
  },
  {
   "cell_type": "code",
   "execution_count": 8,
   "id": "9f6b7013",
   "metadata": {},
   "outputs": [
    {
     "data": {
      "text/plain": [
       "<sqlite3.Cursor at 0x18d97d7a0a0>"
      ]
     },
     "execution_count": 8,
     "metadata": {},
     "output_type": "execute_result"
    }
   ],
   "source": [
    "c.execute('create table fsds(name text, batchid int, marks real) ')"
   ]
  },
  {
   "cell_type": "code",
   "execution_count": 5,
   "id": "500817cd",
   "metadata": {},
   "outputs": [
    {
     "ename": "OperationalError",
     "evalue": "no such table: fsds",
     "output_type": "error",
     "traceback": [
      "\u001b[1;31m---------------------------------------------------------------------------\u001b[0m",
      "\u001b[1;31mOperationalError\u001b[0m                          Traceback (most recent call last)",
      "\u001b[1;32m~\\AppData\\Local\\Temp/ipykernel_8152/498440028.py\u001b[0m in \u001b[0;36m<module>\u001b[1;34m\u001b[0m\n\u001b[1;32m----> 1\u001b[1;33m \u001b[0mc\u001b[0m\u001b[1;33m.\u001b[0m\u001b[0mexecute\u001b[0m\u001b[1;33m(\u001b[0m\u001b[1;34m'insert into fsds values(\"sudh\", 123, 123.45)'\u001b[0m\u001b[1;33m)\u001b[0m\u001b[1;33m\u001b[0m\u001b[1;33m\u001b[0m\u001b[0m\n\u001b[0m",
      "\u001b[1;31mOperationalError\u001b[0m: no such table: fsds"
     ]
    }
   ],
   "source": [
    "c.execute('insert into fsds values(\"sudh\", 123, 123.45)')"
   ]
  },
  {
   "cell_type": "code",
   "execution_count": 11,
   "id": "1c78bddf",
   "metadata": {},
   "outputs": [
    {
     "data": {
      "text/plain": [
       "<sqlite3.Cursor at 0x276c0d211f0>"
      ]
     },
     "execution_count": 11,
     "metadata": {},
     "output_type": "execute_result"
    }
   ],
   "source": [
    "c.execute('insert into fsds values(\"sudh\", 123, 123.45)')\n",
    "c.execute('insert into fsds values(\"sudh\", 123, 123.45)')\n",
    "c.execute('insert into fsds values(\"sudh\", 123, 123.45)')\n",
    "c.execute('insert into fsds values(\"sudh\", 123, 123.45)')\n",
    "c.execute('insert into fsds values(\"sudh\", 123, 123.45)')\n",
    "c.execute('insert into fsds values(\"sudh\", 123, 123.45)')\n",
    "c.execute('insert into fsds values(\"sudh\", 123, 123.45)')"
   ]
  },
  {
   "cell_type": "code",
   "execution_count": 5,
   "id": "b684362e",
   "metadata": {},
   "outputs": [],
   "source": [
    "data = c.execute('select * from fsds')"
   ]
  },
  {
   "cell_type": "code",
   "execution_count": 6,
   "id": "bdd33600",
   "metadata": {},
   "outputs": [
    {
     "name": "stdout",
     "output_type": "stream",
     "text": [
      "('sudh', 123, 123.45)\n",
      "('sudh', 123, 123.45)\n",
      "('sudh', 123, 123.45)\n",
      "('sudh', 123, 123.45)\n",
      "('sudh', 123, 123.45)\n",
      "('sudh', 123, 123.45)\n",
      "('sudh', 123, 123.45)\n",
      "('sudh', 123, 123.45)\n",
      "('sudh', 123, 123.45)\n",
      "('sudh', 123, 123.45)\n",
      "('sudh', 123, 123.45)\n",
      "('sudh', 123, 123.45)\n",
      "('sudh', 123, 123.45)\n",
      "('sudh', 123, 123.45)\n",
      "('sudh', 123, 123.45)\n",
      "('sudh', 123, 123.45)\n",
      "('sudh', 123, 123.45)\n",
      "('sudh', 123, 123.45)\n",
      "('sudh', 123, 123.45)\n",
      "('sudh', 123, 123.45)\n",
      "('sudh', 123, 123.45)\n",
      "('sudh', 123, 123.45)\n"
     ]
    }
   ],
   "source": [
    "for i in data:\n",
    "    print(i)"
   ]
  },
  {
   "cell_type": "code",
   "execution_count": 7,
   "id": "88005aa7",
   "metadata": {},
   "outputs": [],
   "source": [
    "db.commit()"
   ]
  },
  {
   "cell_type": "code",
   "execution_count": 8,
   "id": "959f96e4",
   "metadata": {},
   "outputs": [],
   "source": [
    "db.close()"
   ]
  },
  {
   "cell_type": "code",
   "execution_count": 9,
   "id": "de0fe0c1",
   "metadata": {},
   "outputs": [],
   "source": [
    "db = sqlite3.connect(\"ineuron.db\")"
   ]
  },
  {
   "cell_type": "code",
   "execution_count": 10,
   "id": "4ef7ad4d",
   "metadata": {},
   "outputs": [],
   "source": [
    "c = db.cursor()"
   ]
  },
  {
   "cell_type": "code",
   "execution_count": 13,
   "id": "9fa880a0",
   "metadata": {},
   "outputs": [],
   "source": [
    "data = c.execute('select * from fsds where marks > 100')"
   ]
  },
  {
   "cell_type": "code",
   "execution_count": 14,
   "id": "51eb49c2",
   "metadata": {},
   "outputs": [
    {
     "name": "stdout",
     "output_type": "stream",
     "text": [
      "('sudh', 123, 123.45)\n",
      "('sudh', 123, 123.45)\n",
      "('sudh', 123, 123.45)\n",
      "('sudh', 123, 123.45)\n",
      "('sudh', 123, 123.45)\n",
      "('sudh', 123, 123.45)\n",
      "('sudh', 123, 123.45)\n",
      "('sudh', 123, 123.45)\n",
      "('sudh', 123, 123.45)\n",
      "('sudh', 123, 123.45)\n",
      "('sudh', 123, 123.45)\n",
      "('sudh', 123, 123.45)\n",
      "('sudh', 123, 123.45)\n",
      "('sudh', 123, 123.45)\n",
      "('sudh', 123, 123.45)\n",
      "('sudh', 123, 123.45)\n",
      "('sudh', 123, 123.45)\n",
      "('sudh', 123, 123.45)\n",
      "('sudh', 123, 123.45)\n",
      "('sudh', 123, 123.45)\n",
      "('sudh', 123, 123.45)\n",
      "('sudh', 123, 123.45)\n"
     ]
    }
   ],
   "source": [
    "for i in data:\n",
    "    print(i)"
   ]
  },
  {
   "cell_type": "code",
   "execution_count": 17,
   "id": "d08e87e4",
   "metadata": {},
   "outputs": [],
   "source": [
    "data1 = c.execute(\"select name, marks from fsds\")"
   ]
  },
  {
   "cell_type": "code",
   "execution_count": 18,
   "id": "9636f7c1",
   "metadata": {},
   "outputs": [
    {
     "name": "stdout",
     "output_type": "stream",
     "text": [
      "('sudh', 123.45)\n",
      "('sudh', 123.45)\n",
      "('sudh', 123.45)\n",
      "('sudh', 123.45)\n",
      "('sudh', 123.45)\n",
      "('sudh', 123.45)\n",
      "('sudh', 123.45)\n",
      "('sudh', 123.45)\n",
      "('sudh', 123.45)\n",
      "('sudh', 123.45)\n",
      "('sudh', 123.45)\n",
      "('sudh', 123.45)\n",
      "('sudh', 123.45)\n",
      "('sudh', 123.45)\n",
      "('sudh', 123.45)\n",
      "('sudh', 123.45)\n",
      "('sudh', 123.45)\n",
      "('sudh', 123.45)\n",
      "('sudh', 123.45)\n",
      "('sudh', 123.45)\n",
      "('sudh', 123.45)\n",
      "('sudh', 123.45)\n"
     ]
    }
   ],
   "source": [
    "for i in data1:\n",
    "    print(i)"
   ]
  },
  {
   "cell_type": "code",
   "execution_count": 19,
   "id": "ed7cc4c4",
   "metadata": {},
   "outputs": [],
   "source": [
    "data3 = c.execute('select name, marks from fsds order by marks')"
   ]
  },
  {
   "cell_type": "code",
   "execution_count": 20,
   "id": "f4ce6c66",
   "metadata": {},
   "outputs": [
    {
     "name": "stdout",
     "output_type": "stream",
     "text": [
      "('sudh', 123.45)\n",
      "('sudh', 123.45)\n",
      "('sudh', 123.45)\n",
      "('sudh', 123.45)\n",
      "('sudh', 123.45)\n",
      "('sudh', 123.45)\n",
      "('sudh', 123.45)\n",
      "('sudh', 123.45)\n",
      "('sudh', 123.45)\n",
      "('sudh', 123.45)\n",
      "('sudh', 123.45)\n",
      "('sudh', 123.45)\n",
      "('sudh', 123.45)\n",
      "('sudh', 123.45)\n",
      "('sudh', 123.45)\n",
      "('sudh', 123.45)\n",
      "('sudh', 123.45)\n",
      "('sudh', 123.45)\n",
      "('sudh', 123.45)\n",
      "('sudh', 123.45)\n",
      "('sudh', 123.45)\n",
      "('sudh', 123.45)\n"
     ]
    }
   ],
   "source": [
    "for i in data3:\n",
    "    print(i)"
   ]
  },
  {
   "cell_type": "code",
   "execution_count": 21,
   "id": "2951f8a1",
   "metadata": {},
   "outputs": [],
   "source": [
    "db.close()"
   ]
  },
  {
   "cell_type": "code",
   "execution_count": 25,
   "id": "60501614",
   "metadata": {},
   "outputs": [],
   "source": [
    "db = sqlite3.connect(\"pesron.db\")"
   ]
  },
  {
   "cell_type": "code",
   "execution_count": 26,
   "id": "9e7f4834",
   "metadata": {},
   "outputs": [],
   "source": [
    "c = db.cursor()"
   ]
  },
  {
   "cell_type": "code",
   "execution_count": 75,
   "id": "86e28110",
   "metadata": {},
   "outputs": [
    {
     "ename": "OperationalError",
     "evalue": "table person_table already exists",
     "output_type": "error",
     "traceback": [
      "\u001b[1;31m---------------------------------------------------------------------------\u001b[0m",
      "\u001b[1;31mOperationalError\u001b[0m                          Traceback (most recent call last)",
      "\u001b[1;32m~\\AppData\\Local\\Temp/ipykernel_1988/440419158.py\u001b[0m in \u001b[0;36m<module>\u001b[1;34m\u001b[0m\n\u001b[1;32m----> 1\u001b[1;33m \u001b[0mc\u001b[0m\u001b[1;33m.\u001b[0m\u001b[0mexecute\u001b[0m\u001b[1;33m(\u001b[0m\u001b[1;34m\"create table person_table(name text, emailid text, age int, salary real)\"\u001b[0m\u001b[1;33m)\u001b[0m\u001b[1;33m\u001b[0m\u001b[1;33m\u001b[0m\u001b[0m\n\u001b[0m",
      "\u001b[1;31mOperationalError\u001b[0m: table person_table already exists"
     ]
    }
   ],
   "source": [
    "c.execute(\"create table person_table(name text, emailid text, age int, salary real)\")"
   ]
  },
  {
   "cell_type": "code",
   "execution_count": 8,
   "id": "0ee9786c",
   "metadata": {},
   "outputs": [
    {
     "name": "stdout",
     "output_type": "stream",
     "text": [
      " Volume in drive C has no label.\n",
      " Volume Serial Number is 1004-C407\n",
      "\n",
      " Directory of C:\\Users\\vijay\\OneDrive\\Desktop\\Data_Science\\Python_Classes\n",
      "\n",
      "04/18/2022  11:09 AM    <DIR>          .\n",
      "04/18/2022  11:09 AM    <DIR>          ..\n",
      "04/15/2022  12:04 PM    <DIR>          .ipynb_checkpoints\n",
      "02/16/2022  12:24 PM    <DIR>          __pycache__\n",
      "04/13/2022  03:03 PM            20,039 13th_Feb_mogngodb.ipynb\n",
      "02/02/2022  02:48 PM            22,955 15th_Jan.ipynb\n",
      "02/01/2022  10:16 PM            15,272 15th_jan_Logging.ipynb\n",
      "01/24/2022  01:26 PM            53,959 19Th_Dec_Fun_Practice_Prob.ipynb\n",
      "04/18/2022  11:09 AM            28,268 20th_Feb_SQL_Lite.ipynb\n",
      "02/07/2022  08:38 PM            13,415 22_Jan_22.ipynb\n",
      "02/16/2022  12:22 PM            15,574 23_jan_01.ipynb\n",
      "02/16/2022  12:39 PM             2,640 23_jan_02.ipynb\n",
      "02/23/2022  12:20 PM            17,068 29_jan.ipynb\n",
      "03/20/2022  11:22 AM            69,008 5th_feb_SQL.ipynb\n",
      "03/24/2022  07:03 PM           556,171 6th_Feb_SQL.ipynb\n",
      "01/13/2022  12:46 PM            30,008 8th_Jan_22.ipynb\n",
      "01/23/2022  07:49 PM            16,792 9th_Jan.ipynb\n",
      "03/24/2022  07:38 PM            51,867 car.data\n",
      "03/08/2022  12:17 PM            11,903 glass (1).data\n",
      "01/24/2022  12:24 PM             5,060 google.txt\n",
      "04/15/2022  01:49 PM             8,192 ineuron.db\n",
      "04/03/2022  08:33 PM            57,313 mongodb class 1.ipynb\n",
      "02/04/2022  08:02 PM               223 my_module.py\n",
      "02/04/2022  08:01 PM               219 my_module.py.bak\n",
      "02/16/2022  12:23 PM               655 mydict.py\n",
      "02/16/2022  12:21 PM                 0 mydict.py.bak\n",
      "04/15/2022  02:13 PM                 0 person.db\n",
      "04/15/2022  02:16 PM             8,192 pesron.db\n",
      "03/08/2022  12:22 PM            80,353 SQL basic .ipynb\n",
      "03/24/2022  06:45 PM           358,223 sql day 2 .ipynb\n",
      "02/02/2022  02:46 PM             4,053 test.log\n",
      "01/26/2022  11:50 AM                16 test.txt\n",
      "02/04/2022  01:56 PM               187 test1.py\n",
      "02/04/2022  01:53 PM               187 test1.py.bak\n",
      "02/01/2022  07:37 PM                23 test1.txt\n",
      "02/01/2022  09:57 PM                 0 test2.log\n",
      "02/04/2022  01:48 PM                 0 test2.py\n",
      "01/24/2022  10:39 AM                20 test2.txt\n",
      "01/24/2022  10:39 AM                23 test3.txt\n",
      "02/01/2022  07:37 PM                 0 test43.txt\n",
      "01/23/2022  08:24 PM                85 test5\n",
      "01/24/2022  10:39 AM                65 test5.txt\n",
      "03/28/2022  12:47 PM            64,527 Untitled.ipynb\n",
      "              39 File(s)      1,512,555 bytes\n",
      "               4 Dir(s)  91,196,538,880 bytes free\n"
     ]
    }
   ],
   "source": [
    "ls"
   ]
  },
  {
   "cell_type": "code",
   "execution_count": 27,
   "id": "d421ed87",
   "metadata": {},
   "outputs": [
    {
     "ename": "OperationalError",
     "evalue": "database is locked",
     "output_type": "error",
     "traceback": [
      "\u001b[1;31m---------------------------------------------------------------------------\u001b[0m",
      "\u001b[1;31mOperationalError\u001b[0m                          Traceback (most recent call last)",
      "\u001b[1;32m~\\AppData\\Local\\Temp/ipykernel_8152/2951577085.py\u001b[0m in \u001b[0;36m<module>\u001b[1;34m\u001b[0m\n\u001b[1;32m----> 1\u001b[1;33m \u001b[0mc\u001b[0m\u001b[1;33m.\u001b[0m\u001b[0mexecute\u001b[0m\u001b[1;33m(\u001b[0m\u001b[1;34m\"insert into person_table values('vijay','vijay@gmail.com', 25, 40000)\"\u001b[0m\u001b[1;33m)\u001b[0m\u001b[1;33m\u001b[0m\u001b[1;33m\u001b[0m\u001b[0m\n\u001b[0m\u001b[0;32m      2\u001b[0m \u001b[0mc\u001b[0m\u001b[1;33m.\u001b[0m\u001b[0mexecute\u001b[0m\u001b[1;33m(\u001b[0m\u001b[1;34m\"insert into person_table values('sudh', 'sudh@gmail.com', 40, 80000)\"\u001b[0m\u001b[1;33m)\u001b[0m\u001b[1;33m\u001b[0m\u001b[1;33m\u001b[0m\u001b[0m\n\u001b[0;32m      3\u001b[0m \u001b[0mc\u001b[0m\u001b[1;33m.\u001b[0m\u001b[0mexecute\u001b[0m\u001b[1;33m(\u001b[0m\u001b[1;34m\"insert into person_table values('krish', 'krish@gmail.com', 40, 80000)\"\u001b[0m\u001b[1;33m)\u001b[0m\u001b[1;33m\u001b[0m\u001b[1;33m\u001b[0m\u001b[0m\n\u001b[0;32m      4\u001b[0m \u001b[0mc\u001b[0m\u001b[1;33m.\u001b[0m\u001b[0mexecute\u001b[0m\u001b[1;33m(\u001b[0m\u001b[1;34m\"insert into person_table values('sunny', 'sunny@gmail.com', 35, 65000)\"\u001b[0m\u001b[1;33m)\u001b[0m\u001b[1;33m\u001b[0m\u001b[1;33m\u001b[0m\u001b[0m\n",
      "\u001b[1;31mOperationalError\u001b[0m: database is locked"
     ]
    }
   ],
   "source": [
    "c.execute(\"insert into person_table values('vijay','vijay@gmail.com', 25, 40000)\")\n",
    "c.execute(\"insert into person_table values('sudh', 'sudh@gmail.com', 40, 80000)\")\n",
    "c.execute(\"insert into person_table values('krish', 'krish@gmail.com', 40, 80000)\")\n",
    "c.execute(\"insert into person_table values('sunny', 'sunny@gmail.com', 35, 65000)\")"
   ]
  },
  {
   "cell_type": "code",
   "execution_count": 78,
   "id": "c41c85c6",
   "metadata": {},
   "outputs": [
    {
     "name": "stdout",
     "output_type": "stream",
     "text": [
      " Volume in drive C has no label.\n",
      " Volume Serial Number is 1004-C407\n",
      "\n",
      " Directory of C:\\Users\\vijay\\OneDrive\\Desktop\\Data_Science\\Python_Classes\n",
      "\n",
      "04/15/2022  02:16 PM    <DIR>          .\n",
      "04/15/2022  02:16 PM    <DIR>          ..\n",
      "04/15/2022  12:04 PM    <DIR>          .ipynb_checkpoints\n",
      "02/16/2022  12:24 PM    <DIR>          __pycache__\n",
      "04/13/2022  03:03 PM            20,039 13th_Feb_mogngodb.ipynb\n",
      "02/02/2022  02:48 PM            22,955 15th_Jan.ipynb\n",
      "02/01/2022  10:16 PM            15,272 15th_jan_Logging.ipynb\n",
      "01/24/2022  01:26 PM            53,959 19Th_Dec_Fun_Practice_Prob.ipynb\n",
      "04/15/2022  02:16 PM            27,915 20th_Feb_SQL_Lite.ipynb\n",
      "02/07/2022  08:38 PM            13,415 22_Jan_22.ipynb\n",
      "02/16/2022  12:22 PM            15,574 23_jan_01.ipynb\n",
      "02/16/2022  12:39 PM             2,640 23_jan_02.ipynb\n",
      "02/23/2022  12:20 PM            17,068 29_jan.ipynb\n",
      "03/20/2022  11:22 AM            69,008 5th_feb_SQL.ipynb\n",
      "03/24/2022  07:03 PM           556,171 6th_Feb_SQL.ipynb\n",
      "01/13/2022  12:46 PM            30,008 8th_Jan_22.ipynb\n",
      "01/23/2022  07:49 PM            16,792 9th_Jan.ipynb\n",
      "03/24/2022  07:38 PM            51,867 car.data\n",
      "03/08/2022  12:17 PM            11,903 glass (1).data\n",
      "01/24/2022  12:24 PM             5,060 google.txt\n",
      "04/15/2022  01:49 PM             8,192 ineuron.db\n",
      "04/03/2022  08:33 PM            57,313 mongodb class 1.ipynb\n",
      "02/04/2022  08:02 PM               223 my_module.py\n",
      "02/04/2022  08:01 PM               219 my_module.py.bak\n",
      "02/16/2022  12:23 PM               655 mydict.py\n",
      "02/16/2022  12:21 PM                 0 mydict.py.bak\n",
      "04/15/2022  02:13 PM                 0 person.db\n",
      "04/15/2022  01:47 PM             8,192 pesron.db\n",
      "04/15/2022  02:16 PM             4,616 pesron.db-journal\n",
      "03/08/2022  12:22 PM            80,353 SQL basic .ipynb\n",
      "03/24/2022  06:45 PM           358,223 sql day 2 .ipynb\n",
      "02/02/2022  02:46 PM             4,053 test.log\n",
      "01/26/2022  11:50 AM                16 test.txt\n",
      "02/04/2022  01:56 PM               187 test1.py\n",
      "02/04/2022  01:53 PM               187 test1.py.bak\n",
      "02/01/2022  07:37 PM                23 test1.txt\n",
      "02/01/2022  09:57 PM                 0 test2.log\n",
      "02/04/2022  01:48 PM                 0 test2.py\n",
      "01/24/2022  10:39 AM                20 test2.txt\n",
      "01/24/2022  10:39 AM                23 test3.txt\n",
      "02/01/2022  07:37 PM                 0 test43.txt\n",
      "01/23/2022  08:24 PM                85 test5\n",
      "01/24/2022  10:39 AM                65 test5.txt\n",
      "03/28/2022  12:47 PM            64,527 Untitled.ipynb\n",
      "              40 File(s)      1,516,818 bytes\n",
      "               4 Dir(s)  90,642,046,976 bytes free\n"
     ]
    }
   ],
   "source": [
    "ls"
   ]
  },
  {
   "cell_type": "code",
   "execution_count": 28,
   "id": "4cf74509",
   "metadata": {},
   "outputs": [],
   "source": [
    "data = c.execute(\"select * from person_table\")"
   ]
  },
  {
   "cell_type": "code",
   "execution_count": 29,
   "id": "2ce339f5",
   "metadata": {},
   "outputs": [
    {
     "name": "stdout",
     "output_type": "stream",
     "text": [
      "('vijay', 'vijay@gmail.com', 25, 40000.0)\n",
      "('vijay', 'vijay@gmail.com', 25, 40000.0)\n",
      "('vijay', 'vijay@gmail.com', 25, 40000.0)\n",
      "('sudh', 'sudh@gmail.com', 40, 80000.0)\n",
      "('krish', 'krish@gmail.com', 40, 80000.0)\n",
      "('sunny', 'sunny@gmail.com', 35, 65000.0)\n",
      "('vijay', 'vijay@gmail.com', 25, 40000.0)\n",
      "('sudh', 'sudh@gmail.com', 40, 80000.0)\n",
      "('krish', 'krish@gmail.com', 40, 80000.0)\n",
      "('sunny', 'sunny@gmail.com', 35, 65000.0)\n"
     ]
    }
   ],
   "source": [
    "for i in data :\n",
    "    print(i)"
   ]
  },
  {
   "cell_type": "code",
   "execution_count": 19,
   "id": "3f14d50e",
   "metadata": {},
   "outputs": [],
   "source": [
    "db.commit()"
   ]
  },
  {
   "cell_type": "code",
   "execution_count": 82,
   "id": "2091282d",
   "metadata": {},
   "outputs": [],
   "source": [
    "db.close()"
   ]
  },
  {
   "cell_type": "code",
   "execution_count": 83,
   "id": "f9f087d4",
   "metadata": {},
   "outputs": [
    {
     "name": "stdout",
     "output_type": "stream",
     "text": [
      " Volume in drive C has no label.\n",
      " Volume Serial Number is 1004-C407\n",
      "\n",
      " Directory of C:\\Users\\vijay\\OneDrive\\Desktop\\Data_Science\\Python_Classes\n",
      "\n",
      "04/15/2022  02:16 PM    <DIR>          .\n",
      "04/15/2022  02:16 PM    <DIR>          ..\n",
      "04/15/2022  12:04 PM    <DIR>          .ipynb_checkpoints\n",
      "02/16/2022  12:24 PM    <DIR>          __pycache__\n",
      "04/13/2022  03:03 PM            20,039 13th_Feb_mogngodb.ipynb\n",
      "02/02/2022  02:48 PM            22,955 15th_Jan.ipynb\n",
      "02/01/2022  10:16 PM            15,272 15th_jan_Logging.ipynb\n",
      "01/24/2022  01:26 PM            53,959 19Th_Dec_Fun_Practice_Prob.ipynb\n",
      "04/15/2022  02:16 PM            27,915 20th_Feb_SQL_Lite.ipynb\n",
      "02/07/2022  08:38 PM            13,415 22_Jan_22.ipynb\n",
      "02/16/2022  12:22 PM            15,574 23_jan_01.ipynb\n",
      "02/16/2022  12:39 PM             2,640 23_jan_02.ipynb\n",
      "02/23/2022  12:20 PM            17,068 29_jan.ipynb\n",
      "03/20/2022  11:22 AM            69,008 5th_feb_SQL.ipynb\n",
      "03/24/2022  07:03 PM           556,171 6th_Feb_SQL.ipynb\n",
      "01/13/2022  12:46 PM            30,008 8th_Jan_22.ipynb\n",
      "01/23/2022  07:49 PM            16,792 9th_Jan.ipynb\n",
      "03/24/2022  07:38 PM            51,867 car.data\n",
      "03/08/2022  12:17 PM            11,903 glass (1).data\n",
      "01/24/2022  12:24 PM             5,060 google.txt\n",
      "04/15/2022  01:49 PM             8,192 ineuron.db\n",
      "04/03/2022  08:33 PM            57,313 mongodb class 1.ipynb\n",
      "02/04/2022  08:02 PM               223 my_module.py\n",
      "02/04/2022  08:01 PM               219 my_module.py.bak\n",
      "02/16/2022  12:23 PM               655 mydict.py\n",
      "02/16/2022  12:21 PM                 0 mydict.py.bak\n",
      "04/15/2022  02:13 PM                 0 person.db\n",
      "04/15/2022  02:16 PM             8,192 pesron.db\n",
      "03/08/2022  12:22 PM            80,353 SQL basic .ipynb\n",
      "03/24/2022  06:45 PM           358,223 sql day 2 .ipynb\n",
      "02/02/2022  02:46 PM             4,053 test.log\n",
      "01/26/2022  11:50 AM                16 test.txt\n",
      "02/04/2022  01:56 PM               187 test1.py\n",
      "02/04/2022  01:53 PM               187 test1.py.bak\n",
      "02/01/2022  07:37 PM                23 test1.txt\n",
      "02/01/2022  09:57 PM                 0 test2.log\n",
      "02/04/2022  01:48 PM                 0 test2.py\n",
      "01/24/2022  10:39 AM                20 test2.txt\n",
      "01/24/2022  10:39 AM                23 test3.txt\n",
      "02/01/2022  07:37 PM                 0 test43.txt\n",
      "01/23/2022  08:24 PM                85 test5\n",
      "01/24/2022  10:39 AM                65 test5.txt\n",
      "03/28/2022  12:47 PM            64,527 Untitled.ipynb\n",
      "              39 File(s)      1,512,202 bytes\n",
      "               4 Dir(s)  90,641,920,000 bytes free\n"
     ]
    }
   ],
   "source": [
    "ls"
   ]
  },
  {
   "cell_type": "code",
   "execution_count": 20,
   "id": "dbf01a11",
   "metadata": {},
   "outputs": [],
   "source": [
    "db = sqlite3.connect(\"ineuron.db\")"
   ]
  },
  {
   "cell_type": "code",
   "execution_count": 21,
   "id": "f931415b",
   "metadata": {},
   "outputs": [],
   "source": [
    "c= db.cursor()"
   ]
  },
  {
   "cell_type": "code",
   "execution_count": 86,
   "id": "db4dfbb0",
   "metadata": {},
   "outputs": [
    {
     "ename": "OperationalError",
     "evalue": "no such table: fsds",
     "output_type": "error",
     "traceback": [
      "\u001b[1;31m---------------------------------------------------------------------------\u001b[0m",
      "\u001b[1;31mOperationalError\u001b[0m                          Traceback (most recent call last)",
      "\u001b[1;32m~\\AppData\\Local\\Temp/ipykernel_1988/2253422155.py\u001b[0m in \u001b[0;36m<module>\u001b[1;34m\u001b[0m\n\u001b[1;32m----> 1\u001b[1;33m \u001b[0mc\u001b[0m\u001b[1;33m.\u001b[0m\u001b[0mexecute\u001b[0m\u001b[1;33m(\u001b[0m\u001b[1;34m'drop table fsds'\u001b[0m\u001b[1;33m)\u001b[0m\u001b[1;33m\u001b[0m\u001b[1;33m\u001b[0m\u001b[0m\n\u001b[0m",
      "\u001b[1;31mOperationalError\u001b[0m: no such table: fsds"
     ]
    }
   ],
   "source": [
    "c.execute('drop table fsds')"
   ]
  },
  {
   "cell_type": "code",
   "execution_count": 87,
   "id": "89adcbda",
   "metadata": {},
   "outputs": [
    {
     "ename": "OperationalError",
     "evalue": "no such table: fsds",
     "output_type": "error",
     "traceback": [
      "\u001b[1;31m---------------------------------------------------------------------------\u001b[0m",
      "\u001b[1;31mOperationalError\u001b[0m                          Traceback (most recent call last)",
      "\u001b[1;32m~\\AppData\\Local\\Temp/ipykernel_1988/3918647245.py\u001b[0m in \u001b[0;36m<module>\u001b[1;34m\u001b[0m\n\u001b[1;32m----> 1\u001b[1;33m \u001b[0mc\u001b[0m\u001b[1;33m.\u001b[0m\u001b[0mexecute\u001b[0m\u001b[1;33m(\u001b[0m\u001b[1;34m\"select * from fsds\"\u001b[0m\u001b[1;33m)\u001b[0m\u001b[1;33m\u001b[0m\u001b[1;33m\u001b[0m\u001b[0m\n\u001b[0m",
      "\u001b[1;31mOperationalError\u001b[0m: no such table: fsds"
     ]
    }
   ],
   "source": [
    "c.execute(\"select * from fsds\")"
   ]
  },
  {
   "cell_type": "code",
   "execution_count": 88,
   "id": "e38de2c0",
   "metadata": {},
   "outputs": [],
   "source": [
    "db.close()"
   ]
  },
  {
   "cell_type": "code",
   "execution_count": 22,
   "id": "e8bbe6e3",
   "metadata": {},
   "outputs": [],
   "source": [
    "db = sqlite3.connect('person.db')"
   ]
  },
  {
   "cell_type": "code",
   "execution_count": 23,
   "id": "108ecffa",
   "metadata": {},
   "outputs": [],
   "source": [
    "c = db.cursor()"
   ]
  },
  {
   "cell_type": "code",
   "execution_count": 30,
   "id": "3f4b616e",
   "metadata": {},
   "outputs": [],
   "source": [
    "data = c.execute('SELECT * from person_table limit 2')"
   ]
  },
  {
   "cell_type": "code",
   "execution_count": 97,
   "id": "09c879d1",
   "metadata": {},
   "outputs": [
    {
     "name": "stdout",
     "output_type": "stream",
     "text": [
      "('vijay', 'vijay@gmail.com', 25, 40000.0)\n",
      "('vijay', 'vijay@gmail.com', 25, 40000.0)\n"
     ]
    }
   ],
   "source": [
    "for i in data:\n",
    "    print(i)"
   ]
  },
  {
   "cell_type": "code",
   "execution_count": 31,
   "id": "a0258307",
   "metadata": {},
   "outputs": [],
   "source": [
    "  db.close()"
   ]
  },
  {
   "cell_type": "code",
   "execution_count": 3,
   "id": "762af4dd",
   "metadata": {},
   "outputs": [],
   "source": [
    "db = sqlite3.connect('joindb.db')"
   ]
  },
  {
   "cell_type": "code",
   "execution_count": 4,
   "id": "6b8f634f",
   "metadata": {},
   "outputs": [],
   "source": [
    "c = db.cursor()"
   ]
  },
  {
   "cell_type": "code",
   "execution_count": 34,
   "id": "f00096d8",
   "metadata": {},
   "outputs": [
    {
     "data": {
      "text/plain": [
       "<sqlite3.Cursor at 0x1f112dbf8f0>"
      ]
     },
     "execution_count": 34,
     "metadata": {},
     "output_type": "execute_result"
    }
   ],
   "source": [
    "c.execute('create table student(student_id int, student_name text, student_mailid text, marks int)')"
   ]
  },
  {
   "cell_type": "code",
   "execution_count": 35,
   "id": "cb296f33",
   "metadata": {},
   "outputs": [
    {
     "data": {
      "text/plain": [
       "<sqlite3.Cursor at 0x1f112dbf8f0>"
      ]
     },
     "execution_count": 35,
     "metadata": {},
     "output_type": "execute_result"
    }
   ],
   "source": [
    "c.execute('create table address(student_id int, pincode int, location text, nearby text, phone_no int)')"
   ]
  },
  {
   "cell_type": "code",
   "execution_count": 40,
   "id": "5dcba9f5",
   "metadata": {},
   "outputs": [
    {
     "data": {
      "text/plain": [
       "<sqlite3.Cursor at 0x1f112dbf8f0>"
      ]
     },
     "execution_count": 40,
     "metadata": {},
     "output_type": "execute_result"
    }
   ],
   "source": [
    "c.execute(\"insert into student values(121, 'sudhanshu', 'sudhanshu@gmail.com', 123)\")\n",
    "c.execute(\"insert into student values(122, 'sudhanshu', 'sudhanshu@gmail.com', 123)\")\n",
    "c.execute(\"insert into student values(123, 'sudhanshu', 'sudhanshu@gmail.com', 123)\")\n",
    "c.execute(\"insert into student values(124, 'sudhanshu', 'sudhanshu@gmail.com', 123)\")\n",
    "c.execute(\"insert into student values(125, 'sudhanshu', 'sudhanshu@gmail.com', 123)\")\n",
    "c.execute(\"insert into student values(126, 'sudhanshu', 'sudhanshu@gmail.com', 123)\")\n",
    "c.execute(\"insert into student values(127, 'sudhanshu', 'sudhanshu@gmail.com', 123)\")\n",
    "c.execute(\"insert into student values(128, 'sudhanshu', 'sudhanshu@gmail.com', 123)\")\n",
    "c.execute(\"insert into student values(129, 'sudhanshu', 'sudhanshu@gmail.com', 123)\")\n",
    "c.execute(\"insert into student values(130, 'sudhanshu', 'sudhanshu@gmail.com', 123)\")\n"
   ]
  },
  {
   "cell_type": "code",
   "execution_count": 41,
   "id": "1315df32",
   "metadata": {},
   "outputs": [
    {
     "data": {
      "text/plain": [
       "<sqlite3.Cursor at 0x1f112dbf8f0>"
      ]
     },
     "execution_count": 41,
     "metadata": {},
     "output_type": "execute_result"
    }
   ],
   "source": [
    "c.execute(\"insert into address values(121, 412105, 'pune', 'shanivarwad', 830883)\")\n",
    "c.execute(\"insert into address values(121, 412105, 'pune', 'shanivarwad', 830883)\")\n",
    "c.execute(\"insert into address values(121, 412105, 'pune', 'shanivarwad', 830883)\")\n",
    "c.execute(\"insert into address values(121, 412105, 'pune', 'shanivarwad', 830883)\")\n",
    "c.execute(\"insert into address values(121, 412105, 'pune', 'shanivarwad', 830883)\")\n",
    "c.execute(\"insert into address values(121, 412105, 'pune', 'shanivarwad', 830883)\")\n",
    "c.execute(\"insert into address values(121, 412105, 'pune', 'shanivarwad', 830883)\")\n",
    "c.execute(\"insert into address values(121, 412105, 'pune', 'shanivarwad', 830883)\")\n",
    "c.execute(\"insert into address values(121, 412105, 'pune', 'shanivarwad', 830883)\")\n",
    "c.execute(\"insert into address values(121, 412105, 'pune', 'shanivarwad', 830883)\")\n"
   ]
  },
  {
   "cell_type": "code",
   "execution_count": 43,
   "id": "981ef9a2",
   "metadata": {},
   "outputs": [
    {
     "name": "stdout",
     "output_type": "stream",
     "text": [
      "(121, 412105, 'pune', 'shanivarwad', 830883)\n",
      "(121, 412105, 'pune', 'shanivarwad', 830883)\n",
      "(121, 412105, 'pune', 'shanivarwad', 830883)\n",
      "(121, 412105, 'pune', 'shanivarwad', 830883)\n",
      "(121, 412105, 'pune', 'shanivarwad', 830883)\n",
      "(121, 412105, 'pune', 'shanivarwad', 830883)\n",
      "(121, 412105, 'pune', 'shanivarwad', 830883)\n",
      "(121, 412105, 'pune', 'shanivarwad', 830883)\n",
      "(121, 412105, 'pune', 'shanivarwad', 830883)\n",
      "(121, 412105, 'pune', 'shanivarwad', 830883)\n"
     ]
    }
   ],
   "source": [
    "for i in c.execute(\"select * from address\"):\n",
    "    print(i)"
   ]
  },
  {
   "cell_type": "code",
   "execution_count": 44,
   "id": "5352bedc",
   "metadata": {},
   "outputs": [
    {
     "name": "stdout",
     "output_type": "stream",
     "text": [
      "(121, 'sudhanshu', 'sudhanshu@gmail.com', 123)\n",
      "(122, 'sudhanshu', 'sudhanshu@gmail.com', 123)\n",
      "(123, 'sudhanshu', 'sudhanshu@gmail.com', 123)\n",
      "(124, 'sudhanshu', 'sudhanshu@gmail.com', 123)\n",
      "(125, 'sudhanshu', 'sudhanshu@gmail.com', 123)\n",
      "(126, 'sudhanshu', 'sudhanshu@gmail.com', 123)\n",
      "(127, 'sudhanshu', 'sudhanshu@gmail.com', 123)\n",
      "(128, 'sudhanshu', 'sudhanshu@gmail.com', 123)\n",
      "(129, 'sudhanshu', 'sudhanshu@gmail.com', 123)\n",
      "(130, 'sudhanshu', 'sudhanshu@gmail.com', 123)\n"
     ]
    }
   ],
   "source": [
    "for i in c.execute(\"select * from student\"):\n",
    "    print(i)"
   ]
  },
  {
   "cell_type": "code",
   "execution_count": 47,
   "id": "a61533e3",
   "metadata": {},
   "outputs": [],
   "source": [
    "data = c.execute(\"select * from student s left join address a on s.student_id = a.student_id\")"
   ]
  },
  {
   "cell_type": "code",
   "execution_count": 49,
   "id": "cf5118bc",
   "metadata": {},
   "outputs": [
    {
     "name": "stdout",
     "output_type": "stream",
     "text": [
      "(121, 'sudhanshu', 'sudhanshu@gmail.com', 123, 121, 412105, 'pune', 'shanivarwad', 830883)\n",
      "(121, 'sudhanshu', 'sudhanshu@gmail.com', 123, 121, 412105, 'pune', 'shanivarwad', 830883)\n",
      "(121, 'sudhanshu', 'sudhanshu@gmail.com', 123, 121, 412105, 'pune', 'shanivarwad', 830883)\n",
      "(121, 'sudhanshu', 'sudhanshu@gmail.com', 123, 121, 412105, 'pune', 'shanivarwad', 830883)\n",
      "(121, 'sudhanshu', 'sudhanshu@gmail.com', 123, 121, 412105, 'pune', 'shanivarwad', 830883)\n",
      "(121, 'sudhanshu', 'sudhanshu@gmail.com', 123, 121, 412105, 'pune', 'shanivarwad', 830883)\n",
      "(121, 'sudhanshu', 'sudhanshu@gmail.com', 123, 121, 412105, 'pune', 'shanivarwad', 830883)\n",
      "(121, 'sudhanshu', 'sudhanshu@gmail.com', 123, 121, 412105, 'pune', 'shanivarwad', 830883)\n",
      "(121, 'sudhanshu', 'sudhanshu@gmail.com', 123, 121, 412105, 'pune', 'shanivarwad', 830883)\n",
      "(121, 'sudhanshu', 'sudhanshu@gmail.com', 123, 121, 412105, 'pune', 'shanivarwad', 830883)\n",
      "(122, 'sudhanshu', 'sudhanshu@gmail.com', 123, None, None, None, None, None)\n",
      "(123, 'sudhanshu', 'sudhanshu@gmail.com', 123, None, None, None, None, None)\n",
      "(124, 'sudhanshu', 'sudhanshu@gmail.com', 123, None, None, None, None, None)\n",
      "(125, 'sudhanshu', 'sudhanshu@gmail.com', 123, None, None, None, None, None)\n",
      "(126, 'sudhanshu', 'sudhanshu@gmail.com', 123, None, None, None, None, None)\n",
      "(127, 'sudhanshu', 'sudhanshu@gmail.com', 123, None, None, None, None, None)\n",
      "(128, 'sudhanshu', 'sudhanshu@gmail.com', 123, None, None, None, None, None)\n",
      "(129, 'sudhanshu', 'sudhanshu@gmail.com', 123, None, None, None, None, None)\n",
      "(130, 'sudhanshu', 'sudhanshu@gmail.com', 123, None, None, None, None, None)\n"
     ]
    }
   ],
   "source": [
    "for i in data:\n",
    "    print(i)"
   ]
  },
  {
   "cell_type": "code",
   "execution_count": 51,
   "id": "1f531d95",
   "metadata": {},
   "outputs": [
    {
     "name": "stdout",
     "output_type": "stream",
     "text": [
      "(121, 'sudhanshu', 'sudhanshu@gmail.com', 123)\n",
      "(122, 'sudhanshu', 'sudhanshu@gmail.com', 123)\n",
      "(123, 'sudhanshu', 'sudhanshu@gmail.com', 123)\n",
      "(124, 'sudhanshu', 'sudhanshu@gmail.com', 123)\n",
      "(125, 'sudhanshu', 'sudhanshu@gmail.com', 123)\n",
      "(126, 'sudhanshu', 'sudhanshu@gmail.com', 123)\n",
      "(127, 'sudhanshu', 'sudhanshu@gmail.com', 123)\n",
      "(128, 'sudhanshu', 'sudhanshu@gmail.com', 123)\n",
      "(129, 'sudhanshu', 'sudhanshu@gmail.com', 123)\n",
      "(130, 'sudhanshu', 'sudhanshu@gmail.com', 123)\n"
     ]
    }
   ],
   "source": [
    "for i in c.execute(\"select * from student\"):\n",
    "    print(i)"
   ]
  },
  {
   "cell_type": "code",
   "execution_count": 52,
   "id": "a50fe4f6",
   "metadata": {},
   "outputs": [
    {
     "data": {
      "text/plain": [
       "<sqlite3.Cursor at 0x1f112dbf8f0>"
      ]
     },
     "execution_count": 52,
     "metadata": {},
     "output_type": "execute_result"
    }
   ],
   "source": [
    "c.execute(\"delete from student where student_id >127\")"
   ]
  },
  {
   "cell_type": "code",
   "execution_count": 53,
   "id": "bbd20de2",
   "metadata": {},
   "outputs": [
    {
     "name": "stdout",
     "output_type": "stream",
     "text": [
      "(121, 'sudhanshu', 'sudhanshu@gmail.com', 123)\n",
      "(122, 'sudhanshu', 'sudhanshu@gmail.com', 123)\n",
      "(123, 'sudhanshu', 'sudhanshu@gmail.com', 123)\n",
      "(124, 'sudhanshu', 'sudhanshu@gmail.com', 123)\n",
      "(125, 'sudhanshu', 'sudhanshu@gmail.com', 123)\n",
      "(126, 'sudhanshu', 'sudhanshu@gmail.com', 123)\n",
      "(127, 'sudhanshu', 'sudhanshu@gmail.com', 123)\n"
     ]
    }
   ],
   "source": [
    "for i in c.execute(\"select * from student\"):\n",
    "    print(i)"
   ]
  },
  {
   "cell_type": "code",
   "execution_count": 55,
   "id": "355ca0ff",
   "metadata": {},
   "outputs": [
    {
     "data": {
      "text/plain": [
       "<sqlite3.Cursor at 0x1f112dbf8f0>"
      ]
     },
     "execution_count": 55,
     "metadata": {},
     "output_type": "execute_result"
    }
   ],
   "source": [
    "c.execute(\"update student set student_id = 130 where student_id = 127\")"
   ]
  },
  {
   "cell_type": "code",
   "execution_count": 56,
   "id": "a423235c",
   "metadata": {},
   "outputs": [],
   "source": [
    "data = c.execute(\"select * from student\")"
   ]
  },
  {
   "cell_type": "code",
   "execution_count": 57,
   "id": "6a6b8414",
   "metadata": {},
   "outputs": [
    {
     "data": {
      "text/plain": [
       "[(121, 'sudhanshu', 'sudhanshu@gmail.com', 123),\n",
       " (122, 'sudhanshu', 'sudhanshu@gmail.com', 123),\n",
       " (123, 'sudhanshu', 'sudhanshu@gmail.com', 123),\n",
       " (124, 'sudhanshu', 'sudhanshu@gmail.com', 123),\n",
       " (125, 'sudhanshu', 'sudhanshu@gmail.com', 123),\n",
       " (126, 'sudhanshu', 'sudhanshu@gmail.com', 123),\n",
       " (130, 'sudhanshu', 'sudhanshu@gmail.com', 123)]"
      ]
     },
     "execution_count": 57,
     "metadata": {},
     "output_type": "execute_result"
    }
   ],
   "source": [
    "data.fetchall()"
   ]
  },
  {
   "cell_type": "code",
   "execution_count": 5,
   "id": "e7a11bc6",
   "metadata": {},
   "outputs": [],
   "source": [
    "db.close()"
   ]
  },
  {
   "cell_type": "markdown",
   "id": "2b60b03f",
   "metadata": {},
   "source": [
    "# Map function"
   ]
  },
  {
   "cell_type": "raw",
   "id": "64c185e5",
   "metadata": {},
   "source": [
    "map(function, iterables)"
   ]
  },
  {
   "cell_type": "code",
   "execution_count": 6,
   "id": "61a917b6",
   "metadata": {},
   "outputs": [],
   "source": [
    "l = [1,2,3,4,5]\n",
    "l1 = []\n",
    "for i in l:\n",
    "    l1.append(i+5)\n",
    "    "
   ]
  },
  {
   "cell_type": "code",
   "execution_count": 7,
   "id": "af1f5b4a",
   "metadata": {},
   "outputs": [
    {
     "data": {
      "text/plain": [
       "[6, 7, 8, 9, 10]"
      ]
     },
     "execution_count": 7,
     "metadata": {},
     "output_type": "execute_result"
    }
   ],
   "source": [
    "l1"
   ]
  },
  {
   "cell_type": "code",
   "execution_count": 8,
   "id": "0ddd5a8f",
   "metadata": {},
   "outputs": [],
   "source": [
    "def test(a):\n",
    "    return a+5"
   ]
  },
  {
   "cell_type": "code",
   "execution_count": 12,
   "id": "c1a43eb4",
   "metadata": {},
   "outputs": [
    {
     "data": {
      "text/plain": [
       "[6, 7, 8, 9, 10]"
      ]
     },
     "execution_count": 12,
     "metadata": {},
     "output_type": "execute_result"
    }
   ],
   "source": [
    "list(map(test,l))"
   ]
  },
  {
   "cell_type": "code",
   "execution_count": 14,
   "id": "995dcdf5",
   "metadata": {},
   "outputs": [],
   "source": [
    "def test1(a):\n",
    "    return a*3454+454"
   ]
  },
  {
   "cell_type": "code",
   "execution_count": 15,
   "id": "10fd1ccd",
   "metadata": {},
   "outputs": [
    {
     "data": {
      "text/plain": [
       "[3908, 7362, 10816, 14270, 17724]"
      ]
     },
     "execution_count": 15,
     "metadata": {},
     "output_type": "execute_result"
    }
   ],
   "source": [
    "list(map(test1,l))"
   ]
  },
  {
   "cell_type": "code",
   "execution_count": 16,
   "id": "d0d5ec46",
   "metadata": {},
   "outputs": [],
   "source": [
    "l1 = ['123', '234', '345', '456']"
   ]
  },
  {
   "cell_type": "code",
   "execution_count": 23,
   "id": "94686425",
   "metadata": {},
   "outputs": [],
   "source": [
    "def test3(a):\n",
    "    return int(a)"
   ]
  },
  {
   "cell_type": "code",
   "execution_count": 25,
   "id": "acb20d36",
   "metadata": {},
   "outputs": [
    {
     "data": {
      "text/plain": [
       "123"
      ]
     },
     "execution_count": 25,
     "metadata": {},
     "output_type": "execute_result"
    }
   ],
   "source": [
    "test3(\"123\")"
   ]
  },
  {
   "cell_type": "code",
   "execution_count": 26,
   "id": "60055082",
   "metadata": {},
   "outputs": [
    {
     "data": {
      "text/plain": [
       "[123, 234, 345, 456]"
      ]
     },
     "execution_count": 26,
     "metadata": {},
     "output_type": "execute_result"
    }
   ],
   "source": [
    "list(map(test3,l1))"
   ]
  },
  {
   "cell_type": "code",
   "execution_count": 29,
   "id": "c327c38c",
   "metadata": {},
   "outputs": [
    {
     "data": {
      "text/plain": [
       "[123, 234, 345, 456]"
      ]
     },
     "execution_count": 29,
     "metadata": {},
     "output_type": "execute_result"
    }
   ],
   "source": [
    "list(map(lambda x:int(x),l1))"
   ]
  },
  {
   "cell_type": "markdown",
   "id": "e566ec09",
   "metadata": {},
   "source": [
    "# Filter"
   ]
  },
  {
   "cell_type": "raw",
   "id": "243d18d4",
   "metadata": {},
   "source": [
    "it check the condition is true,if it is then give result only"
   ]
  },
  {
   "cell_type": "code",
   "execution_count": 1,
   "id": "36d72b47",
   "metadata": {},
   "outputs": [],
   "source": [
    "l = [4,5,6,7,8,9]"
   ]
  },
  {
   "cell_type": "code",
   "execution_count": 2,
   "id": "3d681a7b",
   "metadata": {},
   "outputs": [],
   "source": [
    "def test4(a):\n",
    "    if a%2 == 0:\n",
    "        return a "
   ]
  },
  {
   "cell_type": "code",
   "execution_count": 9,
   "id": "8bb2ac85",
   "metadata": {},
   "outputs": [
    {
     "data": {
      "text/plain": [
       "[4, 6, 8]"
      ]
     },
     "execution_count": 9,
     "metadata": {},
     "output_type": "execute_result"
    }
   ],
   "source": [
    "list(filter(test4,l))"
   ]
  },
  {
   "cell_type": "code",
   "execution_count": 15,
   "id": "64e9ec80",
   "metadata": {},
   "outputs": [
    {
     "data": {
      "text/plain": [
       "[4, 6, 8]"
      ]
     },
     "execution_count": 15,
     "metadata": {},
     "output_type": "execute_result"
    }
   ],
   "source": [
    "list(filter(lambda x:x%2 ==0, l))"
   ]
  },
  {
   "cell_type": "code",
   "execution_count": 16,
   "id": "8542af9e",
   "metadata": {},
   "outputs": [
    {
     "data": {
      "text/plain": [
       "[6, 9]"
      ]
     },
     "execution_count": 16,
     "metadata": {},
     "output_type": "execute_result"
    }
   ],
   "source": [
    "list(filter(lambda x:x%3 ==0,l))"
   ]
  },
  {
   "cell_type": "markdown",
   "id": "ebe4494c",
   "metadata": {},
   "source": [
    "# Reduce"
   ]
  },
  {
   "cell_type": "code",
   "execution_count": 17,
   "id": "14efb6fa",
   "metadata": {},
   "outputs": [],
   "source": [
    "from functools import reduce"
   ]
  },
  {
   "cell_type": "code",
   "execution_count": 18,
   "id": "aea8db03",
   "metadata": {},
   "outputs": [],
   "source": [
    "l = [3,4,5,6,7,8]"
   ]
  },
  {
   "cell_type": "code",
   "execution_count": 19,
   "id": "ab5f7ddc",
   "metadata": {},
   "outputs": [
    {
     "data": {
      "text/plain": [
       "33"
      ]
     },
     "execution_count": 19,
     "metadata": {},
     "output_type": "execute_result"
    }
   ],
   "source": [
    "sum(l)"
   ]
  },
  {
   "cell_type": "code",
   "execution_count": 22,
   "id": "a0bd29b1",
   "metadata": {},
   "outputs": [],
   "source": [
    "def test6(a,b):\n",
    "    return a+b"
   ]
  },
  {
   "cell_type": "code",
   "execution_count": 23,
   "id": "4797cac1",
   "metadata": {},
   "outputs": [
    {
     "data": {
      "text/plain": [
       "33"
      ]
     },
     "execution_count": 23,
     "metadata": {},
     "output_type": "execute_result"
    }
   ],
   "source": [
    "reduce(test6,l)"
   ]
  },
  {
   "cell_type": "code",
   "execution_count": 24,
   "id": "a3b004af",
   "metadata": {},
   "outputs": [
    {
     "data": {
      "text/plain": [
       "33"
      ]
     },
     "execution_count": 24,
     "metadata": {},
     "output_type": "execute_result"
    }
   ],
   "source": [
    "reduce(lambda x,y:x+y,l)"
   ]
  },
  {
   "cell_type": "code",
   "execution_count": null,
   "id": "a83113df",
   "metadata": {},
   "outputs": [],
   "source": []
  }
 ],
 "metadata": {
  "kernelspec": {
   "display_name": "Python 3 (ipykernel)",
   "language": "python",
   "name": "python3"
  },
  "language_info": {
   "codemirror_mode": {
    "name": "ipython",
    "version": 3
   },
   "file_extension": ".py",
   "mimetype": "text/x-python",
   "name": "python",
   "nbconvert_exporter": "python",
   "pygments_lexer": "ipython3",
   "version": "3.9.7"
  }
 },
 "nbformat": 4,
 "nbformat_minor": 5
}
