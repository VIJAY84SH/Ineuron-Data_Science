{
 "cells": [
  {
   "cell_type": "code",
   "execution_count": 1,
   "id": "da2d543c",
   "metadata": {},
   "outputs": [],
   "source": [
    "#  1 . you have to write a fun which will take string and return a len of \n",
    "#  it without using a inbuilt fun len\n",
    "\n",
    "def test1(a):\n",
    "    b=0\n",
    "    if type(a)==str:\n",
    "        for i in a:\n",
    "            b=b+1\n",
    "        print(\"Total Length of string is\",b)\n",
    "        return b\n",
    "        "
   ]
  },
  {
   "cell_type": "code",
   "execution_count": 2,
   "id": "5aeb5405",
   "metadata": {},
   "outputs": [],
   "source": [
    "a=\"shradha\""
   ]
  },
  {
   "cell_type": "code",
   "execution_count": 3,
   "id": "103c5e75",
   "metadata": {},
   "outputs": [
    {
     "name": "stdout",
     "output_type": "stream",
     "text": [
      "Total Length of string is 7\n"
     ]
    },
    {
     "data": {
      "text/plain": [
       "7"
      ]
     },
     "execution_count": 3,
     "metadata": {},
     "output_type": "execute_result"
    }
   ],
   "source": [
    "test1(a)"
   ]
  },
  {
   "cell_type": "code",
   "execution_count": 4,
   "id": "4298cde7",
   "metadata": {},
   "outputs": [],
   "source": [
    "#  2 write a fun which will be able to print an index of all premitive element which you will pass\n",
    "\n",
    "def test2(b):\n",
    "    if type(b)==str or type(b)==list or type(b)==tuple or type(b)==dict:\n",
    "        for i in range(len(b)):\n",
    "            print(i,b[i])\n",
    "        return b\n",
    "    "
   ]
  },
  {
   "cell_type": "code",
   "execution_count": 5,
   "id": "75127d56",
   "metadata": {},
   "outputs": [],
   "source": [
    "b=\"vijay\""
   ]
  },
  {
   "cell_type": "code",
   "execution_count": 6,
   "id": "90d7185c",
   "metadata": {},
   "outputs": [
    {
     "name": "stdout",
     "output_type": "stream",
     "text": [
      "0 v\n",
      "1 i\n",
      "2 j\n",
      "3 a\n",
      "4 y\n"
     ]
    },
    {
     "data": {
      "text/plain": [
       "'vijay'"
      ]
     },
     "execution_count": 6,
     "metadata": {},
     "output_type": "execute_result"
    }
   ],
   "source": [
    "test2(b)"
   ]
  },
  {
   "cell_type": "markdown",
   "id": "a786d0c1",
   "metadata": {},
   "source": [
    "#   3 . Write a fun which will take input as a dict and give me out as a list of all the values \n",
    " even in case of 2 level nesting it should work .\n",
    "    "
   ]
  },
  {
   "cell_type": "code",
   "execution_count": 7,
   "id": "c8115bfa",
   "metadata": {},
   "outputs": [],
   "source": [
    "#   3 . Write a fun which will take input as a dict and give me out as a list of all the values \n",
    "#  even in case of 2 level nesting it should work .\n",
    "    \n",
    "def test3(d1):\n",
    "    l=[]\n",
    "    if type(d1)==dict:\n",
    "        for i in d1.values():\n",
    "            l.append(i)\n",
    "        if type(i)==dict:\n",
    "            for i in d1.values():\n",
    "                for j in i.values():\n",
    "                    l.append(j)\n",
    "    return l\n",
    "    \n",
    "    "
   ]
  },
  {
   "cell_type": "code",
   "execution_count": 8,
   "id": "e694e8ed",
   "metadata": {},
   "outputs": [],
   "source": [
    "d1={\"a\":\"vijay\",\"b\":{\"p\":3874,\"q\":\"sudh\",\"r\":[9,8,7,6]}, \"k\":123, \"c\":[1,2,3,4,5],\"e\":(1,3,4,86,7)}"
   ]
  },
  {
   "cell_type": "code",
   "execution_count": 9,
   "id": "04e8c5d9",
   "metadata": {},
   "outputs": [
    {
     "data": {
      "text/plain": [
       "['vijay',\n",
       " {'p': 3874, 'q': 'sudh', 'r': [9, 8, 7, 6]},\n",
       " 123,\n",
       " [1, 2, 3, 4, 5],\n",
       " (1, 3, 4, 86, 7)]"
      ]
     },
     "execution_count": 9,
     "metadata": {},
     "output_type": "execute_result"
    }
   ],
   "source": [
    "test3(d1)"
   ]
  },
  {
   "cell_type": "code",
   "execution_count": 10,
   "id": "2cba55ff",
   "metadata": {},
   "outputs": [],
   "source": [
    "d1={\"a\":\"vijay\",\"b\":(1,3,4,86,7), \"c1\":123, \"c\":[1,2,3,4,5],\"x\":{\"p\":3874,\"q\":\"sudh\",\"r\":[9,8,7,6]}}\n",
    "l=[]\n",
    "if type(d1)==dict:\n",
    "    for i in d1.values():\n",
    "        l.append(i)\n",
    "    if type(d1)==list:\n",
    "        for j in i:\n",
    "            l.append(j)"
   ]
  },
  {
   "cell_type": "code",
   "execution_count": 11,
   "id": "89f12838",
   "metadata": {},
   "outputs": [
    {
     "data": {
      "text/plain": [
       "['vijay',\n",
       " (1, 3, 4, 86, 7),\n",
       " 123,\n",
       " [1, 2, 3, 4, 5],\n",
       " {'p': 3874, 'q': 'sudh', 'r': [9, 8, 7, 6]}]"
      ]
     },
     "execution_count": 11,
     "metadata": {},
     "output_type": "execute_result"
    }
   ],
   "source": [
    "l"
   ]
  },
  {
   "cell_type": "code",
   "execution_count": 12,
   "id": "a6bc7f35",
   "metadata": {},
   "outputs": [],
   "source": [
    "#  3 write a fun which will take another fun as an input and return me \n",
    "#   an output"
   ]
  },
  {
   "cell_type": "markdown",
   "id": "6089cefd",
   "metadata": {},
   "source": [
    "# open file and write something"
   ]
  },
  {
   "cell_type": "code",
   "execution_count": 13,
   "id": "9e72225a",
   "metadata": {},
   "outputs": [],
   "source": [
    "f= open(\"test2.txt\",\"w\")"
   ]
  },
  {
   "cell_type": "code",
   "execution_count": 14,
   "id": "a4650f8d",
   "metadata": {},
   "outputs": [
    {
     "name": "stdout",
     "output_type": "stream",
     "text": [
      " Volume in drive C has no label.\n",
      " Volume Serial Number is 1004-C407\n",
      "\n",
      " Directory of C:\\Users\\vijay\\Desktop\\Data_Science\\Python_Classes\n",
      "\n",
      "01/23/2022  09:23 PM    <DIR>          .\n",
      "01/23/2022  09:23 PM    <DIR>          ..\n",
      "01/13/2022  09:54 PM    <DIR>          .ipynb_checkpoints\n",
      "01/23/2022  09:23 PM            33,977 19Th_Dec_Fun_Practice_Prob.ipynb\n",
      "01/13/2022  12:46 PM            30,008 8th_Jan_22.ipynb\n",
      "01/23/2022  07:49 PM            16,792 9th_Jan.ipynb\n",
      "01/23/2022  09:19 PM             3,098 google.txt\n",
      "01/18/2022  12:56 PM                61 test1.txt\n",
      "01/24/2022  10:39 AM                 0 test2.txt\n",
      "01/23/2022  08:31 PM                64 test3.txt\n",
      "01/23/2022  08:24 PM                85 test5\n",
      "01/23/2022  08:26 PM                65 test5.txt\n",
      "               9 File(s)         84,150 bytes\n",
      "               3 Dir(s)  91,543,072,768 bytes free\n"
     ]
    }
   ],
   "source": [
    "ls"
   ]
  },
  {
   "cell_type": "code",
   "execution_count": 15,
   "id": "e26873c3",
   "metadata": {},
   "outputs": [
    {
     "data": {
      "text/plain": [
       "'C:\\\\Users\\\\vijay\\\\Desktop\\\\Data_Science\\\\Python_Classes'"
      ]
     },
     "execution_count": 15,
     "metadata": {},
     "output_type": "execute_result"
    }
   ],
   "source": [
    "pwd"
   ]
  },
  {
   "cell_type": "code",
   "execution_count": 16,
   "id": "2dc11962",
   "metadata": {},
   "outputs": [],
   "source": [
    "f=open('test2.txt',\"w\")"
   ]
  },
  {
   "cell_type": "code",
   "execution_count": 17,
   "id": "de4f867f",
   "metadata": {},
   "outputs": [
    {
     "data": {
      "text/plain": [
       "20"
      ]
     },
     "execution_count": 17,
     "metadata": {},
     "output_type": "execute_result"
    }
   ],
   "source": [
    "f.write(\"this my second file \") #we can store permanantly info"
   ]
  },
  {
   "cell_type": "code",
   "execution_count": 18,
   "id": "8683a86a",
   "metadata": {},
   "outputs": [],
   "source": [
    "f.close()"
   ]
  },
  {
   "cell_type": "code",
   "execution_count": 19,
   "id": "9b6f93b4",
   "metadata": {},
   "outputs": [
    {
     "name": "stdout",
     "output_type": "stream",
     "text": [
      "Overwriting test3.txt\n"
     ]
    }
   ],
   "source": [
    "%%writefile test3.txt\n",
    "this is my third file"
   ]
  },
  {
   "cell_type": "code",
   "execution_count": 20,
   "id": "1343ec7f",
   "metadata": {},
   "outputs": [
    {
     "name": "stdout",
     "output_type": "stream",
     "text": [
      " Volume in drive C has no label.\n",
      " Volume Serial Number is 1004-C407\n",
      "\n",
      " Directory of C:\\Users\\vijay\\Desktop\\Data_Science\\Python_Classes\n",
      "\n",
      "01/23/2022  09:23 PM    <DIR>          .\n",
      "01/23/2022  09:23 PM    <DIR>          ..\n",
      "01/13/2022  09:54 PM    <DIR>          .ipynb_checkpoints\n",
      "01/23/2022  09:23 PM            33,977 19Th_Dec_Fun_Practice_Prob.ipynb\n",
      "01/13/2022  12:46 PM            30,008 8th_Jan_22.ipynb\n",
      "01/23/2022  07:49 PM            16,792 9th_Jan.ipynb\n",
      "01/23/2022  09:19 PM             3,098 google.txt\n",
      "01/18/2022  12:56 PM                61 test1.txt\n",
      "01/24/2022  10:39 AM                20 test2.txt\n",
      "01/24/2022  10:39 AM                23 test3.txt\n",
      "01/23/2022  08:24 PM                85 test5\n",
      "01/23/2022  08:26 PM                65 test5.txt\n",
      "               9 File(s)         84,129 bytes\n",
      "               3 Dir(s)  91,542,990,848 bytes free\n"
     ]
    }
   ],
   "source": [
    "ls"
   ]
  },
  {
   "cell_type": "markdown",
   "id": "8e4071fe",
   "metadata": {},
   "source": [
    "# Read a file"
   ]
  },
  {
   "cell_type": "code",
   "execution_count": 21,
   "id": "5fda6ffa",
   "metadata": {},
   "outputs": [],
   "source": [
    "f=open(\"test1.txt\",\"r\")"
   ]
  },
  {
   "cell_type": "code",
   "execution_count": 22,
   "id": "526282f4",
   "metadata": {},
   "outputs": [
    {
     "data": {
      "text/plain": [
       "'this is my first file operation to something in my test2.txt '"
      ]
     },
     "execution_count": 22,
     "metadata": {},
     "output_type": "execute_result"
    }
   ],
   "source": [
    "f.read()"
   ]
  },
  {
   "cell_type": "code",
   "execution_count": 23,
   "id": "0aeac97a",
   "metadata": {},
   "outputs": [
    {
     "ename": "UnsupportedOperation",
     "evalue": "not writable",
     "output_type": "error",
     "traceback": [
      "\u001b[1;31m---------------------------------------------------------------------------\u001b[0m",
      "\u001b[1;31mUnsupportedOperation\u001b[0m                      Traceback (most recent call last)",
      "\u001b[1;32m~\\AppData\\Local\\Temp/ipykernel_9380/3055086796.py\u001b[0m in \u001b[0;36m<module>\u001b[1;34m\u001b[0m\n\u001b[1;32m----> 1\u001b[1;33m \u001b[0mf\u001b[0m\u001b[1;33m.\u001b[0m\u001b[0mwrite\u001b[0m\u001b[1;33m(\u001b[0m\u001b[1;34m\"dhkss fsf gswehg\"\u001b[0m\u001b[1;33m)\u001b[0m\u001b[1;33m\u001b[0m\u001b[1;33m\u001b[0m\u001b[0m\n\u001b[0m",
      "\u001b[1;31mUnsupportedOperation\u001b[0m: not writable"
     ]
    }
   ],
   "source": [
    "f.write(\"dhkss fsf gswehg\")"
   ]
  },
  {
   "cell_type": "code",
   "execution_count": null,
   "id": "31bd7a2c",
   "metadata": {},
   "outputs": [],
   "source": [
    "f.read()    # curser is end which is at last "
   ]
  },
  {
   "cell_type": "code",
   "execution_count": null,
   "id": "76c19cdb",
   "metadata": {},
   "outputs": [],
   "source": [
    "f.read()"
   ]
  },
  {
   "cell_type": "code",
   "execution_count": null,
   "id": "ad595da8",
   "metadata": {},
   "outputs": [],
   "source": [
    "f.seek(5) #seek function which reset your cursor where you can start read from perticular index"
   ]
  },
  {
   "cell_type": "code",
   "execution_count": null,
   "id": "9b50b5b5",
   "metadata": {},
   "outputs": [],
   "source": [
    "f.read()"
   ]
  },
  {
   "cell_type": "code",
   "execution_count": null,
   "id": "1f387851",
   "metadata": {},
   "outputs": [],
   "source": [
    "f.seek(0)"
   ]
  },
  {
   "cell_type": "code",
   "execution_count": null,
   "id": "920dff65",
   "metadata": {},
   "outputs": [],
   "source": [
    "f.read()"
   ]
  },
  {
   "cell_type": "code",
   "execution_count": null,
   "id": "01d7caac",
   "metadata": {},
   "outputs": [],
   "source": [
    "f.tell()"
   ]
  },
  {
   "cell_type": "code",
   "execution_count": null,
   "id": "d09cabf0",
   "metadata": {},
   "outputs": [],
   "source": [
    "f.seek(5)"
   ]
  },
  {
   "cell_type": "code",
   "execution_count": null,
   "id": "71ba6415",
   "metadata": {},
   "outputs": [],
   "source": [
    "f.tell()"
   ]
  },
  {
   "cell_type": "code",
   "execution_count": null,
   "id": "9c94d7f3",
   "metadata": {},
   "outputs": [],
   "source": [
    "f.close()"
   ]
  },
  {
   "cell_type": "code",
   "execution_count": null,
   "id": "441d13f3",
   "metadata": {},
   "outputs": [],
   "source": [
    "f=open(\"test1.txt\",\"r+\")"
   ]
  },
  {
   "cell_type": "code",
   "execution_count": null,
   "id": "b1b44fbb",
   "metadata": {},
   "outputs": [],
   "source": [
    "f.read()"
   ]
  },
  {
   "cell_type": "code",
   "execution_count": null,
   "id": "62107d83",
   "metadata": {},
   "outputs": [],
   "source": [
    "f.readline()"
   ]
  },
  {
   "cell_type": "code",
   "execution_count": null,
   "id": "03aa9fdd",
   "metadata": {},
   "outputs": [],
   "source": [
    "f.tell()"
   ]
  },
  {
   "cell_type": "code",
   "execution_count": null,
   "id": "53d574b1",
   "metadata": {},
   "outputs": [],
   "source": [
    "f.seek(0)"
   ]
  },
  {
   "cell_type": "code",
   "execution_count": 24,
   "id": "1607a3f1",
   "metadata": {},
   "outputs": [
    {
     "data": {
      "text/plain": [
       "''"
      ]
     },
     "execution_count": 24,
     "metadata": {},
     "output_type": "execute_result"
    }
   ],
   "source": [
    "f.readline()"
   ]
  },
  {
   "cell_type": "code",
   "execution_count": 25,
   "id": "4640ec82",
   "metadata": {},
   "outputs": [],
   "source": [
    "fa=open(\"test5.txt\",\"w\")"
   ]
  },
  {
   "cell_type": "code",
   "execution_count": 26,
   "id": "178a1ad5",
   "metadata": {},
   "outputs": [
    {
     "data": {
      "text/plain": [
       "65"
      ]
     },
     "execution_count": 26,
     "metadata": {},
     "output_type": "execute_result"
    }
   ],
   "source": [
    "fa.write(\"vijay patil shradha shirasekar akshay opatil babali sahil murgud \")"
   ]
  },
  {
   "cell_type": "code",
   "execution_count": 27,
   "id": "afbc0742",
   "metadata": {},
   "outputs": [],
   "source": [
    "fa.close()"
   ]
  },
  {
   "cell_type": "code",
   "execution_count": 28,
   "id": "d0505bfd",
   "metadata": {},
   "outputs": [],
   "source": [
    "fa=open(\"test5\",\"r\")"
   ]
  },
  {
   "cell_type": "code",
   "execution_count": 29,
   "id": "af5adf07",
   "metadata": {},
   "outputs": [
    {
     "data": {
      "text/plain": [
       "0"
      ]
     },
     "execution_count": 29,
     "metadata": {},
     "output_type": "execute_result"
    }
   ],
   "source": [
    "fa.seek(0)"
   ]
  },
  {
   "cell_type": "code",
   "execution_count": 30,
   "id": "53aed2fb",
   "metadata": {},
   "outputs": [
    {
     "data": {
      "text/plain": [
       "'vijay patil shradha shirasekar akshay opatil babali sahil murgud \\npatl\\ns\\nv\\ns\\nv\\n'"
      ]
     },
     "execution_count": 30,
     "metadata": {},
     "output_type": "execute_result"
    }
   ],
   "source": [
    "fa.read()"
   ]
  },
  {
   "cell_type": "code",
   "execution_count": 31,
   "id": "b24c2028",
   "metadata": {},
   "outputs": [
    {
     "data": {
      "text/plain": [
       "0"
      ]
     },
     "execution_count": 31,
     "metadata": {},
     "output_type": "execute_result"
    }
   ],
   "source": [
    "fa.seek(0)"
   ]
  },
  {
   "cell_type": "code",
   "execution_count": 32,
   "id": "c56a80ca",
   "metadata": {},
   "outputs": [
    {
     "data": {
      "text/plain": [
       "'vijay patil shradha shirasekar akshay opatil babali sahil murgud \\n'"
      ]
     },
     "execution_count": 32,
     "metadata": {},
     "output_type": "execute_result"
    }
   ],
   "source": [
    "fa.readline()"
   ]
  },
  {
   "cell_type": "code",
   "execution_count": 33,
   "id": "db3d2268",
   "metadata": {},
   "outputs": [
    {
     "name": "stdout",
     "output_type": "stream",
     "text": [
      " Volume in drive C has no label.\n",
      " Volume Serial Number is 1004-C407\n",
      "\n",
      " Directory of C:\\Users\\vijay\\Desktop\\Data_Science\\Python_Classes\n",
      "\n",
      "01/23/2022  09:23 PM    <DIR>          .\n",
      "01/23/2022  09:23 PM    <DIR>          ..\n",
      "01/13/2022  09:54 PM    <DIR>          .ipynb_checkpoints\n",
      "01/23/2022  09:23 PM            33,977 19Th_Dec_Fun_Practice_Prob.ipynb\n",
      "01/13/2022  12:46 PM            30,008 8th_Jan_22.ipynb\n",
      "01/23/2022  07:49 PM            16,792 9th_Jan.ipynb\n",
      "01/23/2022  09:19 PM             3,098 google.txt\n",
      "01/18/2022  12:56 PM                61 test1.txt\n",
      "01/24/2022  10:39 AM                20 test2.txt\n",
      "01/24/2022  10:39 AM                23 test3.txt\n",
      "01/23/2022  08:24 PM                85 test5\n",
      "01/24/2022  10:39 AM                65 test5.txt\n",
      "               9 File(s)         84,129 bytes\n",
      "               3 Dir(s)  91,542,990,848 bytes free\n"
     ]
    }
   ],
   "source": [
    "ls"
   ]
  },
  {
   "cell_type": "code",
   "execution_count": null,
   "id": "0b5f83a4",
   "metadata": {},
   "outputs": [],
   "source": []
  },
  {
   "cell_type": "code",
   "execution_count": 34,
   "id": "eb01c519",
   "metadata": {},
   "outputs": [],
   "source": [
    "fa.close()"
   ]
  },
  {
   "cell_type": "code",
   "execution_count": 35,
   "id": "6f1cad13",
   "metadata": {},
   "outputs": [],
   "source": [
    "f=open(\"test3.txt\",\"r\")"
   ]
  },
  {
   "cell_type": "code",
   "execution_count": 36,
   "id": "f7bd70ad",
   "metadata": {},
   "outputs": [
    {
     "data": {
      "text/plain": [
       "'this is my third file\\n'"
      ]
     },
     "execution_count": 36,
     "metadata": {},
     "output_type": "execute_result"
    }
   ],
   "source": [
    "f.readline()"
   ]
  },
  {
   "cell_type": "code",
   "execution_count": 37,
   "id": "742710a0",
   "metadata": {},
   "outputs": [
    {
     "data": {
      "text/plain": [
       "''"
      ]
     },
     "execution_count": 37,
     "metadata": {},
     "output_type": "execute_result"
    }
   ],
   "source": [
    "f.readline()"
   ]
  },
  {
   "cell_type": "code",
   "execution_count": 38,
   "id": "a9247555",
   "metadata": {},
   "outputs": [
    {
     "data": {
      "text/plain": [
       "''"
      ]
     },
     "execution_count": 38,
     "metadata": {},
     "output_type": "execute_result"
    }
   ],
   "source": [
    "f.readline()"
   ]
  },
  {
   "cell_type": "code",
   "execution_count": 39,
   "id": "4ae4adea",
   "metadata": {},
   "outputs": [
    {
     "data": {
      "text/plain": [
       "''"
      ]
     },
     "execution_count": 39,
     "metadata": {},
     "output_type": "execute_result"
    }
   ],
   "source": [
    "f.readline()"
   ]
  },
  {
   "cell_type": "code",
   "execution_count": 40,
   "id": "006e833b",
   "metadata": {},
   "outputs": [
    {
     "data": {
      "text/plain": [
       "''"
      ]
     },
     "execution_count": 40,
     "metadata": {},
     "output_type": "execute_result"
    }
   ],
   "source": [
    "f.readline()"
   ]
  },
  {
   "cell_type": "code",
   "execution_count": 41,
   "id": "2c05b227",
   "metadata": {},
   "outputs": [],
   "source": [
    "f.close()"
   ]
  },
  {
   "cell_type": "code",
   "execution_count": 42,
   "id": "3a94d015",
   "metadata": {},
   "outputs": [],
   "source": [
    "f=open(\"google.txt\",\"w\")"
   ]
  },
  {
   "cell_type": "code",
   "execution_count": 43,
   "id": "6d8a99d1",
   "metadata": {},
   "outputs": [
    {
     "data": {
      "text/plain": [
       "568"
      ]
     },
     "execution_count": 43,
     "metadata": {},
     "output_type": "execute_result"
    }
   ],
   "source": [
    "f.write(\"\"\"Ajeenkya D Y Patil was born in Mumbai, the son of Late. Pushpalata Patil and D. Y. Patil, a Padma Shri recipient, and founder of the D Y Patil Group. After his initial schooling and graduation, Patil did his MBA from Richmond College, UK and specialization in Marketing from the London School of Economics. He has been awarded an honorary doctorate by University of Central Lancashire, United Kingdom, for his achievements in the field of education.[2] His sister is married to Dr. P. D. allies Pravin D. Patil who is now chancellor of Dr. D. Y. Patil Vidyapeeth, Pune\"\"\")"
   ]
  },
  {
   "cell_type": "code",
   "execution_count": 44,
   "id": "f541099b",
   "metadata": {},
   "outputs": [],
   "source": [
    "f.close()"
   ]
  },
  {
   "cell_type": "code",
   "execution_count": 45,
   "id": "118c281c",
   "metadata": {},
   "outputs": [],
   "source": [
    "f=open(\"google.txt\",\"r+\")"
   ]
  },
  {
   "cell_type": "code",
   "execution_count": 46,
   "id": "ad38e10f",
   "metadata": {},
   "outputs": [
    {
     "data": {
      "text/plain": [
       "'Ajeenkya D Y Patil was born in Mumbai, the son of Late. Pushpalata Patil and D. Y. Patil, a Padma Shri recipient, and founder of the D Y Patil Group. After his initial schooling and graduation, Patil did his MBA from Richmond College, UK and specialization in Marketing from the London School of Economics. He has been awarded an honorary doctorate by University of Central Lancashire, United Kingdom, for his achievements in the field of education.[2] His sister is married to Dr. P. D. allies Pravin D. Patil who is now chancellor of Dr. D. Y. Patil Vidyapeeth, Pune'"
      ]
     },
     "execution_count": 46,
     "metadata": {},
     "output_type": "execute_result"
    }
   ],
   "source": [
    "f.read()"
   ]
  },
  {
   "cell_type": "code",
   "execution_count": 47,
   "id": "00e48455",
   "metadata": {},
   "outputs": [
    {
     "data": {
      "text/plain": [
       "0"
      ]
     },
     "execution_count": 47,
     "metadata": {},
     "output_type": "execute_result"
    }
   ],
   "source": [
    "f.seek(0)"
   ]
  },
  {
   "cell_type": "code",
   "execution_count": 48,
   "id": "56a5ffd1",
   "metadata": {},
   "outputs": [
    {
     "data": {
      "text/plain": [
       "'Ajeenkya D Y Patil was born in Mumbai, the son of Late. Pushpalata Patil and D. Y. Patil, a Padma Shri recipient, and founder of the D Y Patil Group. After his initial schooling and graduation, Patil did his MBA from Richmond College, UK and specialization in Marketing from the London School of Economics. He has been awarded an honorary doctorate by University of Central Lancashire, United Kingdom, for his achievements in the field of education.[2] His sister is married to Dr. P. D. allies Pravin D. Patil who is now chancellor of Dr. D. Y. Patil Vidyapeeth, Pune'"
      ]
     },
     "execution_count": 48,
     "metadata": {},
     "output_type": "execute_result"
    }
   ],
   "source": [
    "f.readline()"
   ]
  },
  {
   "cell_type": "code",
   "execution_count": 49,
   "id": "0c3d1634",
   "metadata": {},
   "outputs": [],
   "source": [
    "f.close()"
   ]
  },
  {
   "cell_type": "code",
   "execution_count": 50,
   "id": "b45fc38c",
   "metadata": {},
   "outputs": [
    {
     "name": "stdout",
     "output_type": "stream",
     "text": [
      "Ajeenkya D Y Patil was born in Mumbai, the son of Late. Pushpalata Patil and D. Y. Patil, a Padma Shri recipient, and founder of the D Y Patil Group. After his initial schooling and graduation, Patil did his MBA from Richmond College, UK and specialization in Marketing from the London School of Economics. He has been awarded an honorary doctorate by University of Central Lancashire, United Kingdom, for his achievements in the field of education.[2] His sister is married to Dr. P. D. allies Pravin D. Patil who is now chancellor of Dr. D. Y. Patil Vidyapeeth, Pune "
     ]
    }
   ],
   "source": [
    "f=open(\"google.txt\", \"r+\")\n",
    "for line in f:\n",
    "    print(line,end=\" \")\n",
    "    "
   ]
  },
  {
   "cell_type": "code",
   "execution_count": 51,
   "id": "ab65f3b2",
   "metadata": {},
   "outputs": [],
   "source": [
    "f.close()"
   ]
  },
  {
   "cell_type": "code",
   "execution_count": 52,
   "id": "cafe4fd2",
   "metadata": {},
   "outputs": [],
   "source": [
    "f=open(\"google.txt\",\"r+\")"
   ]
  },
  {
   "cell_type": "code",
   "execution_count": 93,
   "id": "10b48154",
   "metadata": {},
   "outputs": [
    {
     "data": {
      "text/plain": [
       "2520"
      ]
     },
     "execution_count": 93,
     "metadata": {},
     "output_type": "execute_result"
    }
   ],
   "source": [
    "f.write(\"\"\"A neuron or nerve cell is an electrically excitable cell that communicates with other cells via specialized connections called synapses. It is the main component of nervous tissue in all animals except sponges and placozoa. Plants and fungi do not have nerve cells.\n",
    "\n",
    "Neurons are typically classified into three types based on their function. Sensory neurons respond to stimuli such as touch, sound, or light that affect the cells of the sensory organs, and they send signals to the spinal cord or brain. Motor neurons receive signals from the brain and spinal cord to control everything from muscle contractions to glandular output. Interneurons connect neurons to other neurons within the same region of the brain or spinal cord. A group of connected neurons is called a neural circuit.\n",
    "\n",
    "A typical neuron consists of a cell body (soma), dendrites, and a single axon. The soma is usually compact. The axon and dendrites are filaments that extrude from it. Dendrites typically branch profusely and extend a few hundred micrometers from the soma. The axon leaves the soma at a swelling called the axon hillock, and travels for as far as 1 meter in humans or more in other species. It branches but usually maintains a constant diameter. At the farthest tip of the axon's branches are axon terminals, where the neuron can transmit a signal across the synapse to another cell. Neurons may lack dendrites or have no axon. The term neurite is used to describe either a dendrite or an axon, particularly when the cell is undifferentiated.\n",
    "\n",
    "Most neurons receive signals via the dendrites and soma and send out signals down the axon. At the majority of synapses, signals cross from the axon of one neuron to a dendrite of another. However, synapses can connect an axon to another axon or a dendrite to another dendrite.\n",
    "\n",
    "The signaling process is partly electrical and partly chemical. Neurons are electrically excitable, due to maintenance of voltage gradients across their membranes. If the voltage changes by a large enough amount over a short interval, the neuron generates an all-or-nothing electrochemical pulse called an action potential. This potential travels rapidly along the axon, and activates synaptic connections as it reaches them. Synaptic signals may be excitatory or inhibitory, increasing or reducing the net voltage that reaches the soma.\n",
    "\n",
    "In most cases, neurons are generated by neural stem cells during brain development and childhood. Neurogenesis largely ceases during adulthood in most areas of the brain.\"\"\")"
   ]
  },
  {
   "cell_type": "code",
   "execution_count": 94,
   "id": "56ca007f",
   "metadata": {},
   "outputs": [],
   "source": [
    "f.close()"
   ]
  },
  {
   "cell_type": "code",
   "execution_count": 96,
   "id": "f2359f84",
   "metadata": {},
   "outputs": [],
   "source": [
    "f=open(\"google.txt\",\"r+\")"
   ]
  },
  {
   "cell_type": "code",
   "execution_count": 97,
   "id": "b27ad687",
   "metadata": {},
   "outputs": [
    {
     "data": {
      "text/plain": [
       "266"
      ]
     },
     "execution_count": 97,
     "metadata": {},
     "output_type": "execute_result"
    }
   ],
   "source": [
    "len(f.readline())"
   ]
  },
  {
   "cell_type": "code",
   "execution_count": 98,
   "id": "b2d4705b",
   "metadata": {},
   "outputs": [],
   "source": [
    "l=f.readline()"
   ]
  },
  {
   "cell_type": "code",
   "execution_count": 99,
   "id": "c3df4573",
   "metadata": {},
   "outputs": [
    {
     "data": {
      "text/plain": [
       "'\\n'"
      ]
     },
     "execution_count": 99,
     "metadata": {},
     "output_type": "execute_result"
    }
   ],
   "source": [
    "l[0]"
   ]
  },
  {
   "cell_type": "code",
   "execution_count": 64,
   "id": "7896efaf",
   "metadata": {
    "scrolled": true
   },
   "outputs": [
    {
     "name": "stdout",
     "output_type": "stream",
     "text": [
      "A neuron or nerve cell is an electrically excitable cell that communicates with other cells via specialized connections called synapses. It is the main component of nervous tissue in all animals except sponges and placozoa. Plants and fungi do not have nerve cells.\n",
      "  \n",
      "  Neurons are typically classified into three types based on their function. Sensory neurons respond to stimuli such as touch, sound, or light that affect the cells of the sensory organs, and they send signals to the spinal cord or brain. Motor neurons receive signals from the brain and spinal cord to control everything from muscle contractions to glandular output. Interneurons connect neurons to other neurons within the same region of the brain or spinal cord. A group of connected neurons is called a neural circuit.\n",
      "  \n",
      "  A typical neuron consists of a cell body (soma), dendrites, and a single axon. The soma is usually compact. The axon and dendrites are filaments that extrude from it. Dendrites typically branch profusely and extend a few hundred micrometers from the soma. The axon leaves the soma at a swelling called the axon hillock, and travels for as far as 1 meter in humans or more in other species. It branches but usually maintains a constant diameter. At the farthest tip of the axon's branches are axon terminals, where the neuron can transmit a signal across the synapse to another cell. Neurons may lack dendrites or have no axon. The term neurite is used to describe either a dendrite or an axon, particularly when the cell is undifferentiated.\n",
      "  \n",
      "  Most neurons receive signals via the dendrites and soma and send out signals down the axon. At the majority of synapses, signals cross from the axon of one neuron to a dendrite of another. However, synapses can connect an axon to another axon or a dendrite to another dendrite.\n",
      "  \n",
      "  The signaling process is partly electrical and partly chemical. Neurons are electrically excitable, due to maintenance of voltage gradients across their membranes. If the voltage changes by a large enough amount over a short interval, the neuron generates an all-or-nothing electrochemical pulse called an action potential. This potential travels rapidly along the axon, and activates synaptic connections as it reaches them. Synaptic signals may be excitatory or inhibitory, increasing or reducing the net voltage that reaches the soma.\n",
      "  \n",
      "  In most cases, neurons are generated by neural stem cells during brain development and childhood. Neurogenesis largely ceases during adulthood in most areas of the brain.  "
     ]
    }
   ],
   "source": [
    "f=open(\"google.txt\",\"r+\")\n",
    "for line in f:\n",
    "    print(line, end=\" \")"
   ]
  },
  {
   "cell_type": "code",
   "execution_count": 105,
   "id": "19be57ce",
   "metadata": {},
   "outputs": [],
   "source": [
    "f.close()"
   ]
  },
  {
   "cell_type": "code",
   "execution_count": 106,
   "id": "469e900e",
   "metadata": {},
   "outputs": [],
   "source": [
    "f=open(\"google.txt\",\"r+\")"
   ]
  },
  {
   "cell_type": "code",
   "execution_count": 107,
   "id": "d51befdb",
   "metadata": {
    "scrolled": true
   },
   "outputs": [
    {
     "data": {
      "text/plain": [
       "['A neuron or nerve cell is an electrically excitable cell that communicates with other cells via specialized connections called synapses. It is the main component of nervous tissue in all animals except sponges and placozoa. Plants and fungi do not have nerve cells.\\n',\n",
       " '\\n',\n",
       " 'Neurons are typically classified into three types based on their function. Sensory neurons respond to stimuli such as touch, sound, or light that affect the cells of the sensory organs, and they send signals to the spinal cord or brain. Motor neurons receive signals from the brain and spinal cord to control everything from muscle contractions to glandular output. Interneurons connect neurons to other neurons within the same region of the brain or spinal cord. A group of connected neurons is called a neural circuit.\\n',\n",
       " '\\n',\n",
       " \"A typical neuron consists of a cell body (soma), dendrites, and a single axon. The soma is usually compact. The axon and dendrites are filaments that extrude from it. Dendrites typically branch profusely and extend a few hundred micrometers from the soma. The axon leaves the soma at a swelling called the axon hillock, and travels for as far as 1 meter in humans or more in other species. It branches but usually maintains a constant diameter. At the farthest tip of the axon's branches are axon terminals, where the neuron can transmit a signal across the synapse to another cell. Neurons may lack dendrites or have no axon. The term neurite is used to describe either a dendrite or an axon, particularly when the cell is undifferentiated.\\n\",\n",
       " '\\n',\n",
       " 'Most neurons receive signals via the dendrites and soma and send out signals down the axon. At the majority of synapses, signals cross from the axon of one neuron to a dendrite of another. However, synapses can connect an axon to another axon or a dendrite to another dendrite.\\n',\n",
       " '\\n',\n",
       " 'The signaling process is partly electrical and partly chemical. Neurons are electrically excitable, due to maintenance of voltage gradients across their membranes. If the voltage changes by a large enough amount over a short interval, the neuron generates an all-or-nothing electrochemical pulse called an action potential. This potential travels rapidly along the axon, and activates synaptic connections as it reaches them. Synaptic signals may be excitatory or inhibitory, increasing or reducing the net voltage that reaches the soma.\\n',\n",
       " '\\n',\n",
       " 'In most cases, neurons are generated by neural stem cells during brain development and childhood. Neurogenesis largely ceases during adulthood in most areas of the brain.A neuron or nerve cell is an electrically excitable cell that communicates with other cells via specialized connections called synapses. It is the main component of nervous tissue in all animals except sponges and placozoa. Plants and fungi do not have nerve cells.\\n',\n",
       " '\\n',\n",
       " 'Neurons are typically classified into three types based on their function. Sensory neurons respond to stimuli such as touch, sound, or light that affect the cells of the sensory organs, and they send signals to the spinal cord or brain. Motor neurons receive signals from the brain and spinal cord to control everything from muscle contractions to glandular output. Interneurons connect neurons to other neurons within the same region of the brain or spinal cord. A group of connected neurons is called a neural circuit.\\n',\n",
       " '\\n',\n",
       " \"A typical neuron consists of a cell body (soma), dendrites, and a single axon. The soma is usually compact. The axon and dendrites are filaments that extrude from it. Dendrites typically branch profusely and extend a few hundred micrometers from the soma. The axon leaves the soma at a swelling called the axon hillock, and travels for as far as 1 meter in humans or more in other species. It branches but usually maintains a constant diameter. At the farthest tip of the axon's branches are axon terminals, where the neuron can transmit a signal across the synapse to another cell. Neurons may lack dendrites or have no axon. The term neurite is used to describe either a dendrite or an axon, particularly when the cell is undifferentiated.\\n\",\n",
       " '\\n',\n",
       " 'Most neurons receive signals via the dendrites and soma and send out signals down the axon. At the majority of synapses, signals cross from the axon of one neuron to a dendrite of another. However, synapses can connect an axon to another axon or a dendrite to another dendrite.\\n',\n",
       " '\\n',\n",
       " 'The signaling process is partly electrical and partly chemical. Neurons are electrically excitable, due to maintenance of voltage gradients across their membranes. If the voltage changes by a large enough amount over a short interval, the neuron generates an all-or-nothing electrochemical pulse called an action potential. This potential travels rapidly along the axon, and activates synaptic connections as it reaches them. Synaptic signals may be excitatory or inhibitory, increasing or reducing the net voltage that reaches the soma.\\n',\n",
       " '\\n',\n",
       " 'In most cases, neurons are generated by neural stem cells during brain development and childhood. Neurogenesis largely ceases during adulthood in most areas of the brain.']"
      ]
     },
     "execution_count": 107,
     "metadata": {},
     "output_type": "execute_result"
    }
   ],
   "source": [
    "f.readlines()"
   ]
  },
  {
   "cell_type": "code",
   "execution_count": 118,
   "id": "86e65576",
   "metadata": {},
   "outputs": [],
   "source": [
    "f=open(\"google.txt\",\"r+\")"
   ]
  },
  {
   "cell_type": "code",
   "execution_count": 119,
   "id": "32dd7295",
   "metadata": {},
   "outputs": [
    {
     "data": {
      "text/plain": [
       "21"
      ]
     },
     "execution_count": 119,
     "metadata": {},
     "output_type": "execute_result"
    }
   ],
   "source": [
    "len(f.readlines())"
   ]
  },
  {
   "cell_type": "code",
   "execution_count": 124,
   "id": "8d2060b7",
   "metadata": {},
   "outputs": [],
   "source": [
    "f=open(\"google.txt\",\"r+\")\n",
    "l=f.readlines()"
   ]
  },
  {
   "cell_type": "code",
   "execution_count": 125,
   "id": "9663f1ff",
   "metadata": {},
   "outputs": [
    {
     "data": {
      "text/plain": [
       "['A neuron or nerve cell is an electrically excitable cell that communicates with other cells via specialized connections called synapses. It is the main component of nervous tissue in all animals except sponges and placozoa. Plants and fungi do not have nerve cells.\\n',\n",
       " '\\n',\n",
       " 'Neurons are typically classified into three types based on their function. Sensory neurons respond to stimuli such as touch, sound, or light that affect the cells of the sensory organs, and they send signals to the spinal cord or brain. Motor neurons receive signals from the brain and spinal cord to control everything from muscle contractions to glandular output. Interneurons connect neurons to other neurons within the same region of the brain or spinal cord. A group of connected neurons is called a neural circuit.\\n',\n",
       " '\\n',\n",
       " \"A typical neuron consists of a cell body (soma), dendrites, and a single axon. The soma is usually compact. The axon and dendrites are filaments that extrude from it. Dendrites typically branch profusely and extend a few hundred micrometers from the soma. The axon leaves the soma at a swelling called the axon hillock, and travels for as far as 1 meter in humans or more in other species. It branches but usually maintains a constant diameter. At the farthest tip of the axon's branches are axon terminals, where the neuron can transmit a signal across the synapse to another cell. Neurons may lack dendrites or have no axon. The term neurite is used to describe either a dendrite or an axon, particularly when the cell is undifferentiated.\\n\",\n",
       " '\\n',\n",
       " 'Most neurons receive signals via the dendrites and soma and send out signals down the axon. At the majority of synapses, signals cross from the axon of one neuron to a dendrite of another. However, synapses can connect an axon to another axon or a dendrite to another dendrite.\\n',\n",
       " '\\n',\n",
       " 'The signaling process is partly electrical and partly chemical. Neurons are electrically excitable, due to maintenance of voltage gradients across their membranes. If the voltage changes by a large enough amount over a short interval, the neuron generates an all-or-nothing electrochemical pulse called an action potential. This potential travels rapidly along the axon, and activates synaptic connections as it reaches them. Synaptic signals may be excitatory or inhibitory, increasing or reducing the net voltage that reaches the soma.\\n',\n",
       " '\\n',\n",
       " 'In most cases, neurons are generated by neural stem cells during brain development and childhood. Neurogenesis largely ceases during adulthood in most areas of the brain.A neuron or nerve cell is an electrically excitable cell that communicates with other cells via specialized connections called synapses. It is the main component of nervous tissue in all animals except sponges and placozoa. Plants and fungi do not have nerve cells.\\n',\n",
       " '\\n',\n",
       " 'Neurons are typically classified into three types based on their function. Sensory neurons respond to stimuli such as touch, sound, or light that affect the cells of the sensory organs, and they send signals to the spinal cord or brain. Motor neurons receive signals from the brain and spinal cord to control everything from muscle contractions to glandular output. Interneurons connect neurons to other neurons within the same region of the brain or spinal cord. A group of connected neurons is called a neural circuit.\\n',\n",
       " '\\n',\n",
       " \"A typical neuron consists of a cell body (soma), dendrites, and a single axon. The soma is usually compact. The axon and dendrites are filaments that extrude from it. Dendrites typically branch profusely and extend a few hundred micrometers from the soma. The axon leaves the soma at a swelling called the axon hillock, and travels for as far as 1 meter in humans or more in other species. It branches but usually maintains a constant diameter. At the farthest tip of the axon's branches are axon terminals, where the neuron can transmit a signal across the synapse to another cell. Neurons may lack dendrites or have no axon. The term neurite is used to describe either a dendrite or an axon, particularly when the cell is undifferentiated.\\n\",\n",
       " '\\n',\n",
       " 'Most neurons receive signals via the dendrites and soma and send out signals down the axon. At the majority of synapses, signals cross from the axon of one neuron to a dendrite of another. However, synapses can connect an axon to another axon or a dendrite to another dendrite.\\n',\n",
       " '\\n',\n",
       " 'The signaling process is partly electrical and partly chemical. Neurons are electrically excitable, due to maintenance of voltage gradients across their membranes. If the voltage changes by a large enough amount over a short interval, the neuron generates an all-or-nothing electrochemical pulse called an action potential. This potential travels rapidly along the axon, and activates synaptic connections as it reaches them. Synaptic signals may be excitatory or inhibitory, increasing or reducing the net voltage that reaches the soma.\\n',\n",
       " '\\n',\n",
       " 'In most cases, neurons are generated by neural stem cells during brain development and childhood. Neurogenesis largely ceases during adulthood in most areas of the brain.']"
      ]
     },
     "execution_count": 125,
     "metadata": {},
     "output_type": "execute_result"
    }
   ],
   "source": [
    "l"
   ]
  },
  {
   "cell_type": "code",
   "execution_count": 126,
   "id": "405f179d",
   "metadata": {},
   "outputs": [
    {
     "data": {
      "text/plain": [
       "'A neuron or nerve cell is an electrically excitable cell that communicates with other cells via specialized connections called synapses. It is the main component of nervous tissue in all animals except sponges and placozoa. Plants and fungi do not have nerve cells.\\n'"
      ]
     },
     "execution_count": 126,
     "metadata": {},
     "output_type": "execute_result"
    }
   ],
   "source": [
    "l[0]"
   ]
  },
  {
   "cell_type": "code",
   "execution_count": 127,
   "id": "27047028",
   "metadata": {},
   "outputs": [
    {
     "data": {
      "text/plain": [
       "['A',\n",
       " 'neuron',\n",
       " 'or',\n",
       " 'nerve',\n",
       " 'cell',\n",
       " 'is',\n",
       " 'an',\n",
       " 'electrically',\n",
       " 'excitable',\n",
       " 'cell',\n",
       " 'that',\n",
       " 'communicates',\n",
       " 'with',\n",
       " 'other',\n",
       " 'cells',\n",
       " 'via',\n",
       " 'specialized',\n",
       " 'connections',\n",
       " 'called',\n",
       " 'synapses.',\n",
       " 'It',\n",
       " 'is',\n",
       " 'the',\n",
       " 'main',\n",
       " 'component',\n",
       " 'of',\n",
       " 'nervous',\n",
       " 'tissue',\n",
       " 'in',\n",
       " 'all',\n",
       " 'animals',\n",
       " 'except',\n",
       " 'sponges',\n",
       " 'and',\n",
       " 'placozoa.',\n",
       " 'Plants',\n",
       " 'and',\n",
       " 'fungi',\n",
       " 'do',\n",
       " 'not',\n",
       " 'have',\n",
       " 'nerve',\n",
       " 'cells.']"
      ]
     },
     "execution_count": 127,
     "metadata": {},
     "output_type": "execute_result"
    }
   ],
   "source": [
    "l[0].split()"
   ]
  },
  {
   "cell_type": "code",
   "execution_count": 128,
   "id": "cf195a16",
   "metadata": {},
   "outputs": [
    {
     "name": "stdout",
     "output_type": "stream",
     "text": [
      "A\n",
      "n\n",
      "o\n",
      "n\n",
      "c\n",
      "i\n",
      "a\n",
      "e\n",
      "e\n",
      "c\n",
      "t\n",
      "c\n",
      "w\n",
      "o\n",
      "c\n",
      "v\n",
      "s\n",
      "c\n",
      "c\n",
      "s\n",
      "I\n",
      "i\n",
      "t\n",
      "m\n",
      "c\n",
      "o\n",
      "n\n",
      "t\n",
      "i\n",
      "a\n",
      "a\n",
      "e\n",
      "s\n",
      "a\n",
      "p\n",
      "P\n",
      "a\n",
      "f\n",
      "d\n",
      "n\n",
      "h\n",
      "n\n",
      "c\n"
     ]
    }
   ],
   "source": [
    "for i in l[0].split():\n",
    "    print(i[0])"
   ]
  },
  {
   "cell_type": "code",
   "execution_count": 130,
   "id": "c4abc63c",
   "metadata": {},
   "outputs": [
    {
     "data": {
      "text/plain": [
       "'google.txt'"
      ]
     },
     "execution_count": 130,
     "metadata": {},
     "output_type": "execute_result"
    }
   ],
   "source": [
    "f=open(\"google.txt\",\"r+\")\n",
    "f.name"
   ]
  },
  {
   "cell_type": "code",
   "execution_count": 131,
   "id": "0d72339a",
   "metadata": {},
   "outputs": [],
   "source": [
    "l=[\"this is my line one\",\"this is my line 2\",\"this is my line3\",\"this is my line 4\"]"
   ]
  },
  {
   "cell_type": "code",
   "execution_count": 132,
   "id": "586a0a70",
   "metadata": {},
   "outputs": [
    {
     "data": {
      "text/plain": [
       "29"
      ]
     },
     "execution_count": 132,
     "metadata": {},
     "output_type": "execute_result"
    }
   ],
   "source": [
    "f.write(\"i can write at current cursor\")"
   ]
  },
  {
   "cell_type": "code",
   "execution_count": 133,
   "id": "09393343",
   "metadata": {},
   "outputs": [],
   "source": [
    "f.writelines(l)"
   ]
  },
  {
   "cell_type": "code",
   "execution_count": 134,
   "id": "84b2a41b",
   "metadata": {},
   "outputs": [],
   "source": [
    "f.close()"
   ]
  },
  {
   "cell_type": "code",
   "execution_count": 135,
   "id": "f32f7a32",
   "metadata": {},
   "outputs": [
    {
     "data": {
      "text/plain": [
       "4"
      ]
     },
     "execution_count": 135,
     "metadata": {},
     "output_type": "execute_result"
    }
   ],
   "source": [
    "f=open(\"google.txt\",\"r+\")\n",
    "f.fileno()"
   ]
  },
  {
   "cell_type": "code",
   "execution_count": 136,
   "id": "16601e3a",
   "metadata": {},
   "outputs": [
    {
     "name": "stdout",
     "output_type": "stream",
     "text": [
      " Volume in drive C has no label.\n",
      " Volume Serial Number is 1004-C407\n",
      "\n",
      " Directory of C:\\Users\\vijay\\Desktop\\Data_Science\\Python_Classes\n",
      "\n",
      "01/24/2022  12:13 PM    <DIR>          .\n",
      "01/24/2022  12:13 PM    <DIR>          ..\n",
      "01/13/2022  09:54 PM    <DIR>          .ipynb_checkpoints\n",
      "01/24/2022  12:13 PM            48,697 19Th_Dec_Fun_Practice_Prob.ipynb\n",
      "01/13/2022  12:46 PM            30,008 8th_Jan_22.ipynb\n",
      "01/23/2022  07:49 PM            16,792 9th_Jan.ipynb\n",
      "01/24/2022  12:11 PM             5,060 google.txt\n",
      "01/18/2022  12:56 PM                61 test1.txt\n",
      "01/24/2022  10:39 AM                20 test2.txt\n",
      "01/24/2022  10:39 AM                23 test3.txt\n",
      "01/23/2022  08:24 PM                85 test5\n",
      "01/24/2022  10:39 AM                65 test5.txt\n",
      "               9 File(s)        100,811 bytes\n",
      "               3 Dir(s)  91,587,178,496 bytes free\n"
     ]
    }
   ],
   "source": [
    "ls"
   ]
  },
  {
   "cell_type": "code",
   "execution_count": 138,
   "id": "e457332b",
   "metadata": {},
   "outputs": [],
   "source": [
    "f.close()"
   ]
  },
  {
   "cell_type": "code",
   "execution_count": 139,
   "id": "348b2bb6",
   "metadata": {},
   "outputs": [],
   "source": [
    "import os"
   ]
  },
  {
   "cell_type": "code",
   "execution_count": 140,
   "id": "a1031d59",
   "metadata": {},
   "outputs": [
    {
     "data": {
      "text/plain": [
       "'C:\\\\Users\\\\vijay\\\\Desktop\\\\Data_Science\\\\Python_Classes'"
      ]
     },
     "execution_count": 140,
     "metadata": {},
     "output_type": "execute_result"
    }
   ],
   "source": [
    "os.getcwd()"
   ]
  },
  {
   "cell_type": "code",
   "execution_count": 141,
   "id": "86b58bd9",
   "metadata": {},
   "outputs": [
    {
     "data": {
      "text/plain": [
       "['.ipynb_checkpoints',\n",
       " '19Th_Dec_Fun_Practice_Prob.ipynb',\n",
       " '8th_Jan_22.ipynb',\n",
       " '9th_Jan.ipynb',\n",
       " 'google.txt',\n",
       " 'test1.txt',\n",
       " 'test2.txt',\n",
       " 'test3.txt',\n",
       " 'test5',\n",
       " 'test5.txt']"
      ]
     },
     "execution_count": 141,
     "metadata": {},
     "output_type": "execute_result"
    }
   ],
   "source": [
    "os.listdir()"
   ]
  },
  {
   "cell_type": "markdown",
   "id": "2b7bc8f4",
   "metadata": {},
   "source": [
    "# Try to read all of txt file and create one final file"
   ]
  },
  {
   "cell_type": "code",
   "execution_count": 152,
   "id": "4a7cb147",
   "metadata": {},
   "outputs": [
    {
     "ename": "NameError",
     "evalue": "name 'txt' is not defined",
     "output_type": "error",
     "traceback": [
      "\u001b[1;31m---------------------------------------------------------------------------\u001b[0m",
      "\u001b[1;31mNameError\u001b[0m                                 Traceback (most recent call last)",
      "\u001b[1;32m~\\AppData\\Local\\Temp/ipykernel_9380/4205787448.py\u001b[0m in \u001b[0;36m<module>\u001b[1;34m\u001b[0m\n\u001b[0;32m      1\u001b[0m \u001b[0ml1\u001b[0m\u001b[1;33m=\u001b[0m\u001b[1;33m[\u001b[0m\u001b[1;33m]\u001b[0m\u001b[1;33m\u001b[0m\u001b[1;33m\u001b[0m\u001b[0m\n\u001b[0;32m      2\u001b[0m \u001b[1;32mfor\u001b[0m \u001b[0mi\u001b[0m \u001b[1;32min\u001b[0m \u001b[0mos\u001b[0m\u001b[1;33m.\u001b[0m\u001b[0mlistdir\u001b[0m\u001b[1;33m(\u001b[0m\u001b[1;33m)\u001b[0m\u001b[1;33m:\u001b[0m\u001b[1;33m\u001b[0m\u001b[1;33m\u001b[0m\u001b[0m\n\u001b[1;32m----> 3\u001b[1;33m     \u001b[1;32mif\u001b[0m \u001b[0mtype\u001b[0m\u001b[1;33m(\u001b[0m\u001b[0mi\u001b[0m\u001b[1;33m)\u001b[0m\u001b[1;33m==\u001b[0m\u001b[0mtxt\u001b[0m\u001b[1;33m:\u001b[0m\u001b[1;33m\u001b[0m\u001b[1;33m\u001b[0m\u001b[0m\n\u001b[0m\u001b[0;32m      4\u001b[0m         \u001b[0ml1\u001b[0m\u001b[1;33m.\u001b[0m\u001b[0mappend\u001b[0m\u001b[1;33m(\u001b[0m\u001b[0mi\u001b[0m\u001b[1;33m)\u001b[0m\u001b[1;33m\u001b[0m\u001b[1;33m\u001b[0m\u001b[0m\n\u001b[0;32m      5\u001b[0m \u001b[1;33m\u001b[0m\u001b[0m\n",
      "\u001b[1;31mNameError\u001b[0m: name 'txt' is not defined"
     ]
    }
   ],
   "source": [
    "l1=[]\n",
    "for i in os.listdir():\n",
    "    if type(i)==txt:\n",
    "        l1.append(i)\n",
    "  \n",
    "    "
   ]
  },
  {
   "cell_type": "code",
   "execution_count": 151,
   "id": "b0cb0a20",
   "metadata": {},
   "outputs": [
    {
     "data": {
      "text/plain": [
       "[]"
      ]
     },
     "execution_count": 151,
     "metadata": {},
     "output_type": "execute_result"
    }
   ],
   "source": [
    "l1"
   ]
  },
  {
   "cell_type": "code",
   "execution_count": null,
   "id": "0900e71a",
   "metadata": {},
   "outputs": [],
   "source": []
  }
 ],
 "metadata": {
  "kernelspec": {
   "display_name": "Python 3 (ipykernel)",
   "language": "python",
   "name": "python3"
  },
  "language_info": {
   "codemirror_mode": {
    "name": "ipython",
    "version": 3
   },
   "file_extension": ".py",
   "mimetype": "text/x-python",
   "name": "python",
   "nbconvert_exporter": "python",
   "pygments_lexer": "ipython3",
   "version": "3.9.7"
  }
 },
 "nbformat": 4,
 "nbformat_minor": 5
}
