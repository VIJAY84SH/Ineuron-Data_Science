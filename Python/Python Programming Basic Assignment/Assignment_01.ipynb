{
 "cells": [
  {
   "cell_type": "markdown",
   "id": "ac38aa44",
   "metadata": {},
   "source": [
    "# Q. 1. Write a Python program to print \"Hello Python\"?"
   ]
  },
  {
   "cell_type": "code",
   "execution_count": 1,
   "id": "30b3755a",
   "metadata": {},
   "outputs": [
    {
     "name": "stdout",
     "output_type": "stream",
     "text": [
      "Hello Python\n"
     ]
    }
   ],
   "source": [
    "print(\"Hello Python\")"
   ]
  },
  {
   "cell_type": "markdown",
   "id": "26637972",
   "metadata": {},
   "source": [
    "# Q. 2. Write a Python program to do arithmetical operations addition and division.?"
   ]
  },
  {
   "cell_type": "code",
   "execution_count": 3,
   "id": "66b8afaf",
   "metadata": {},
   "outputs": [
    {
     "name": "stdout",
     "output_type": "stream",
     "text": [
      "enter the number_1 : 8\n",
      "enter the number_2 : 4\n",
      "addition =  12\n",
      "division =  2.0\n"
     ]
    }
   ],
   "source": [
    "a = int(input(\"enter the number_1 : \"))\n",
    "b = int(input(\"enter the number_2 : \"))\n",
    "\n",
    "# Addition\n",
    "add = a+b\n",
    "\n",
    "# Division \n",
    "div = a/b \n",
    "    \n",
    "print(\"addition = \",add)\n",
    "print(\"division = \",div)\n"
   ]
  },
  {
   "cell_type": "markdown",
   "id": "f43f33d5",
   "metadata": {},
   "source": [
    "# Q. 3. Write a Python program to find the area of a triangle?"
   ]
  },
  {
   "cell_type": "code",
   "execution_count": 5,
   "id": "7c3223b5",
   "metadata": {},
   "outputs": [
    {
     "name": "stdout",
     "output_type": "stream",
     "text": [
      "Enter base of Triangle : 8\n",
      "Enter Height of Triangle : 2\n",
      "Area of Triangle =  8.0\n"
     ]
    }
   ],
   "source": [
    "# Are of Triangle = (base*height)/2\n",
    "\n",
    "b = int(input(\"Enter base of Triangle : \"))\n",
    "h = int(input(\"Enter Height of Triangle : \"))\n",
    "\n",
    "area = (b*h)/2\n",
    "\n",
    "print(\"Area of Triangle = \", area)"
   ]
  },
  {
   "cell_type": "markdown",
   "id": "7d4fde5d",
   "metadata": {},
   "source": [
    "# Q. 4. Write a Python program to swap two variables?"
   ]
  },
  {
   "cell_type": "code",
   "execution_count": 7,
   "id": "eee9c211",
   "metadata": {},
   "outputs": [
    {
     "name": "stdout",
     "output_type": "stream",
     "text": [
      "x =  2\n",
      "y =  1\n"
     ]
    }
   ],
   "source": [
    "# Before swap x = 1, y = 2\n",
    "x = 1\n",
    "y = 2\n",
    "temp = x\n",
    "x = y\n",
    "y = temp\n",
    "print(\"x = \",x)\n",
    "print(\"y = \",y)\n",
    "\n"
   ]
  },
  {
   "cell_type": "markdown",
   "id": "a37840ec",
   "metadata": {},
   "source": [
    "# Q. 5. Write a Python program to generate a random number?"
   ]
  },
  {
   "cell_type": "code",
   "execution_count": 10,
   "id": "dcc25f11",
   "metadata": {},
   "outputs": [
    {
     "name": "stdout",
     "output_type": "stream",
     "text": [
      "552\n"
     ]
    }
   ],
   "source": [
    "import random\n",
    "random_Number = random.randint(0,1000)\n",
    "# Return random integer in range [a, b], including both end points.\n",
    "\n",
    "print(random_Number)"
   ]
  },
  {
   "cell_type": "code",
   "execution_count": null,
   "id": "0cd61867",
   "metadata": {},
   "outputs": [],
   "source": []
  }
 ],
 "metadata": {
  "kernelspec": {
   "display_name": "Python 3 (ipykernel)",
   "language": "python",
   "name": "python3"
  },
  "language_info": {
   "codemirror_mode": {
    "name": "ipython",
    "version": 3
   },
   "file_extension": ".py",
   "mimetype": "text/x-python",
   "name": "python",
   "nbconvert_exporter": "python",
   "pygments_lexer": "ipython3",
   "version": "3.9.7"
  }
 },
 "nbformat": 4,
 "nbformat_minor": 5
}
