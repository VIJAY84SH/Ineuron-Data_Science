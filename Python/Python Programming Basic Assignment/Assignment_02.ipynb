{
 "cells": [
  {
   "cell_type": "markdown",
   "id": "75156228",
   "metadata": {},
   "source": [
    "# Q. 1. Write a Python program to convert kilometers to miles?"
   ]
  },
  {
   "cell_type": "markdown",
   "id": "820de04d",
   "metadata": {},
   "source": [
    "\n",
    "**mile** = Kilometer * 0.62137"
   ]
  },
  {
   "cell_type": "code",
   "execution_count": 6,
   "id": "3148464f",
   "metadata": {},
   "outputs": [
    {
     "name": "stdout",
     "output_type": "stream",
     "text": [
      "Enter the kilometer : 21.5\n",
      "miles =  13.359454999999999\n"
     ]
    }
   ],
   "source": [
    "kilometers = float(input(\"Enter the kilometer : \"))\n",
    "miles = kilometers*0.62137\n",
    "print(\"miles = \",miles)"
   ]
  },
  {
   "cell_type": "markdown",
   "id": "7f55eb8e",
   "metadata": {},
   "source": [
    "# Q. 2. Write a Python program to convert Celsius to Fahrenheit?"
   ]
  },
  {
   "cell_type": "markdown",
   "id": "38ea337d",
   "metadata": {},
   "source": [
    "<b> Fahrenheit = (temp in degree Celsius * 9/5) +32"
   ]
  },
  {
   "cell_type": "code",
   "execution_count": 8,
   "id": "e7836175",
   "metadata": {},
   "outputs": [
    {
     "name": "stdout",
     "output_type": "stream",
     "text": [
      "Celsius : 40.5\n",
      "Fahrenheit =  104.9\n"
     ]
    }
   ],
   "source": [
    "Celsius = float(input(\"Celsius : \"))\n",
    "Fahrenheit = (Celsius * 9/5) + 32\n",
    "print(\"Fahrenheit = \",Fahrenheit)"
   ]
  },
  {
   "cell_type": "markdown",
   "id": "a55001e5",
   "metadata": {},
   "source": [
    "# Q. 3. Write a Python program to display calendar?"
   ]
  },
  {
   "cell_type": "code",
   "execution_count": 11,
   "id": "dbe974ff",
   "metadata": {},
   "outputs": [
    {
     "name": "stdout",
     "output_type": "stream",
     "text": [
      "                                  2022\n",
      "\n",
      "      January                   February                   March\n",
      "Mo Tu We Th Fr Sa Su      Mo Tu We Th Fr Sa Su      Mo Tu We Th Fr Sa Su\n",
      "                1  2          1  2  3  4  5  6          1  2  3  4  5  6\n",
      " 3  4  5  6  7  8  9       7  8  9 10 11 12 13       7  8  9 10 11 12 13\n",
      "10 11 12 13 14 15 16      14 15 16 17 18 19 20      14 15 16 17 18 19 20\n",
      "17 18 19 20 21 22 23      21 22 23 24 25 26 27      21 22 23 24 25 26 27\n",
      "24 25 26 27 28 29 30      28                        28 29 30 31\n",
      "31\n",
      "\n",
      "       April                      May                       June\n",
      "Mo Tu We Th Fr Sa Su      Mo Tu We Th Fr Sa Su      Mo Tu We Th Fr Sa Su\n",
      "             1  2  3                         1             1  2  3  4  5\n",
      " 4  5  6  7  8  9 10       2  3  4  5  6  7  8       6  7  8  9 10 11 12\n",
      "11 12 13 14 15 16 17       9 10 11 12 13 14 15      13 14 15 16 17 18 19\n",
      "18 19 20 21 22 23 24      16 17 18 19 20 21 22      20 21 22 23 24 25 26\n",
      "25 26 27 28 29 30         23 24 25 26 27 28 29      27 28 29 30\n",
      "                          30 31\n",
      "\n",
      "        July                     August                  September\n",
      "Mo Tu We Th Fr Sa Su      Mo Tu We Th Fr Sa Su      Mo Tu We Th Fr Sa Su\n",
      "             1  2  3       1  2  3  4  5  6  7                1  2  3  4\n",
      " 4  5  6  7  8  9 10       8  9 10 11 12 13 14       5  6  7  8  9 10 11\n",
      "11 12 13 14 15 16 17      15 16 17 18 19 20 21      12 13 14 15 16 17 18\n",
      "18 19 20 21 22 23 24      22 23 24 25 26 27 28      19 20 21 22 23 24 25\n",
      "25 26 27 28 29 30 31      29 30 31                  26 27 28 29 30\n",
      "\n",
      "      October                   November                  December\n",
      "Mo Tu We Th Fr Sa Su      Mo Tu We Th Fr Sa Su      Mo Tu We Th Fr Sa Su\n",
      "                1  2          1  2  3  4  5  6                1  2  3  4\n",
      " 3  4  5  6  7  8  9       7  8  9 10 11 12 13       5  6  7  8  9 10 11\n",
      "10 11 12 13 14 15 16      14 15 16 17 18 19 20      12 13 14 15 16 17 18\n",
      "17 18 19 20 21 22 23      21 22 23 24 25 26 27      19 20 21 22 23 24 25\n",
      "24 25 26 27 28 29 30      28 29 30                  26 27 28 29 30 31\n",
      "31\n",
      "\n"
     ]
    }
   ],
   "source": [
    "import calendar\n",
    "yy = 2022\n",
    "print(calendar.calendar(yy))\n",
    "# this  is for year"
   ]
  },
  {
   "cell_type": "code",
   "execution_count": 12,
   "id": "9a8042cf",
   "metadata": {},
   "outputs": [
    {
     "name": "stdout",
     "output_type": "stream",
     "text": [
      "      June 22\n",
      "Mo Tu We Th Fr Sa Su\n",
      "       1  2  3  4  5\n",
      " 6  7  8  9 10 11 12\n",
      "13 14 15 16 17 18 19\n",
      "20 21 22 23 24 25 26\n",
      "27 28 29 30\n",
      "\n"
     ]
    }
   ],
   "source": [
    "print(calendar.month(22,6))\n",
    "# this is for perticular month"
   ]
  },
  {
   "cell_type": "markdown",
   "id": "cc35d5a6",
   "metadata": {},
   "source": [
    "# Q. 4. Write a Python program to solve quadratic equation?"
   ]
  },
  {
   "cell_type": "markdown",
   "id": "e0824ce2",
   "metadata": {},
   "source": [
    "    General quadratic equation : ax^2 + bx + c = 0\n",
    "    \n",
    "     root1 = (-b + sqrt(b**2 - (4*a*c)))/2\n",
    "        \n",
    "     root2 = (-b - sqrt(b**2 - (4*a*c)))/2\n",
    "    \n",
    "    "
   ]
  },
  {
   "cell_type": "code",
   "execution_count": 14,
   "id": "29a631ce",
   "metadata": {},
   "outputs": [
    {
     "name": "stdout",
     "output_type": "stream",
     "text": [
      "Enter The coefficient a : 1\n",
      "Enter The coefficient a : 4\n",
      "Enter The constant c : -21\n",
      "The Solution are :3.0 and -7.0\n"
     ]
    }
   ],
   "source": [
    "import math\n",
    "\n",
    "a = int(input(\"Enter The coefficient a : \"))\n",
    "b = int(input(\"Enter The coefficient a : \"))\n",
    "c = int(input(\"Enter The constant c : \"))\n",
    "\n",
    "d = (b**2) - (4*a*c)\n",
    "\n",
    "root1 = ((-1*b) + (math.sqrt(d))) / (2*a)\n",
    "root2 = ((-1*b) - (math.sqrt(d))) / (2*a)\n",
    "\n",
    "print('The Solution are :{} and {}'.format(root1,root2))"
   ]
  },
  {
   "cell_type": "markdown",
   "id": "d3dc7d69",
   "metadata": {},
   "source": [
    "# Q. 5. Write a Python program to swap two variables without temp variable?"
   ]
  },
  {
   "cell_type": "code",
   "execution_count": 19,
   "id": "659ed10b",
   "metadata": {},
   "outputs": [
    {
     "name": "stdout",
     "output_type": "stream",
     "text": [
      " After Swappig value of x and y \n",
      "x =  2\n",
      "y =  1\n"
     ]
    }
   ],
   "source": [
    "x = 1\n",
    "y = 2\n",
    "\n",
    "# Before Swapping x= 1, y = 2\n",
    "\n",
    "x,y = y,x\n",
    "\n",
    "print(\" After Swappig value of x and y \")\n",
    "\n",
    "print(\"x = \",x)\n",
    "print(\"y = \",y)"
   ]
  },
  {
   "cell_type": "code",
   "execution_count": null,
   "id": "315e424b",
   "metadata": {},
   "outputs": [],
   "source": []
  },
  {
   "cell_type": "code",
   "execution_count": null,
   "id": "3fa72862",
   "metadata": {},
   "outputs": [],
   "source": []
  }
 ],
 "metadata": {
  "kernelspec": {
   "display_name": "Python 3 (ipykernel)",
   "language": "python",
   "name": "python3"
  },
  "language_info": {
   "codemirror_mode": {
    "name": "ipython",
    "version": 3
   },
   "file_extension": ".py",
   "mimetype": "text/x-python",
   "name": "python",
   "nbconvert_exporter": "python",
   "pygments_lexer": "ipython3",
   "version": "3.9.7"
  }
 },
 "nbformat": 4,
 "nbformat_minor": 5
}
