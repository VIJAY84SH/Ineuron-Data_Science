{
 "cells": [
  {
   "cell_type": "markdown",
   "id": "c67f3002",
   "metadata": {},
   "source": [
    "# Q. 1. Write a Python Program to find sum of array?"
   ]
  },
  {
   "cell_type": "code",
   "execution_count": 1,
   "id": "cfd25fc8",
   "metadata": {},
   "outputs": [
    {
     "data": {
      "text/plain": [
       "21"
      ]
     },
     "execution_count": 1,
     "metadata": {},
     "output_type": "execute_result"
    }
   ],
   "source": [
    "lst = [1,2,3,4,5,6]\n",
    "sum(lst)"
   ]
  },
  {
   "cell_type": "markdown",
   "id": "64786b32",
   "metadata": {},
   "source": [
    "**OR**"
   ]
  },
  {
   "cell_type": "code",
   "execution_count": 7,
   "id": "03d267ca",
   "metadata": {},
   "outputs": [
    {
     "name": "stdout",
     "output_type": "stream",
     "text": [
      "sum of all element =  21\n"
     ]
    }
   ],
   "source": [
    "lst = [1,2,3,4,5,6]\n",
    "sum = 0\n",
    "for i in range(0,len(lst)):\n",
    "    sum+= lst[i]\n",
    "print(\"sum of all element = \",sum)\n",
    "   "
   ]
  },
  {
   "cell_type": "markdown",
   "id": "71b1298a",
   "metadata": {},
   "source": [
    "# Q. 2. Write a Python Program to find largest element in an array?"
   ]
  },
  {
   "cell_type": "code",
   "execution_count": 10,
   "id": "9c906f06",
   "metadata": {},
   "outputs": [
    {
     "name": "stdout",
     "output_type": "stream",
     "text": [
      "largest element in the array is 85\n"
     ]
    }
   ],
   "source": [
    "lst = [1,2,3,4,56,85,2]\n",
    "max(lst)\n",
    "print('largest element in the array is {}'.format(max(lst)))"
   ]
  },
  {
   "cell_type": "markdown",
   "id": "a9a6e555",
   "metadata": {},
   "source": [
    "**OR**"
   ]
  },
  {
   "cell_type": "code",
   "execution_count": 13,
   "id": "32223d54",
   "metadata": {},
   "outputs": [
    {
     "name": "stdout",
     "output_type": "stream",
     "text": [
      "largest element in the array is 85\n"
     ]
    }
   ],
   "source": [
    "lst = [1,2,3,4,56,85,2]\n",
    "large = 0\n",
    "for i in range(0,len(lst)):\n",
    "    while large < lst[i]:\n",
    "        large =lst[i]\n",
    "print('largest element in the array is {}'.format(large))"
   ]
  },
  {
   "cell_type": "markdown",
   "id": "b6c254c1",
   "metadata": {},
   "source": [
    "# Q. 3. Write a Python Program for array rotation?"
   ]
  },
  {
   "cell_type": "code",
   "execution_count": 15,
   "id": "761f445d",
   "metadata": {},
   "outputs": [
    {
     "name": "stdout",
     "output_type": "stream",
     "text": [
      "AFter rotaion array [6, 5, 4, 3, 2, 1]\n"
     ]
    }
   ],
   "source": [
    "lst = [1,2,3,4,5,6]\n",
    "lst[: : -1]\n",
    "print('AFter rotaion array {}'.format(lst[: : -1]))"
   ]
  },
  {
   "cell_type": "markdown",
   "id": "ccf5d948",
   "metadata": {},
   "source": [
    "# Q. 4. Write a Python Program to Split the array and add the first part to the end?"
   ]
  },
  {
   "cell_type": "code",
   "execution_count": 27,
   "id": "7314b87d",
   "metadata": {},
   "outputs": [
    {
     "name": "stdout",
     "output_type": "stream",
     "text": [
      "Enter the split index : 2\n",
      "split [1, 2]\n",
      "The list after split and add :  [3, 4, 5, 6, 1, 2]\n"
     ]
    }
   ],
   "source": [
    "lst = [1,2,3,4,5,6]\n",
    "final_lst =[]\n",
    "split_index = int(input('Enter the split index : '))\n",
    "if split_index > len(lst):\n",
    "    print('split index is greater than list of element')\n",
    "else:\n",
    "    print('split',lst[:split_index])\n",
    "    final_lst = lst[split_index : len(lst) ] + lst[:split_index]\n",
    "print('The list after split and add : ',final_lst)\n"
   ]
  },
  {
   "cell_type": "markdown",
   "id": "bf2eabb6",
   "metadata": {},
   "source": [
    "# Q. 5. Write a Python Program to check if given array is Monotonic?"
   ]
  },
  {
   "cell_type": "code",
   "execution_count": 6,
   "id": "023d4219",
   "metadata": {},
   "outputs": [],
   "source": [
    "def monotonicCheck(array):\n",
    "    flag = True\n",
    "    \n",
    "    if array[0] >= array[len(array)-1]:\n",
    "        for i in range(len(array)-2):\n",
    "            if array[i] < array[i+1]:\n",
    "                flag = False\n",
    "    else:\n",
    "        for i in range(len(array)-2):\n",
    "            if array[i] > array[i+1]:\n",
    "                flag = False\n",
    "                \n",
    "    return flag"
   ]
  },
  {
   "cell_type": "code",
   "execution_count": 7,
   "id": "0d772ad0",
   "metadata": {},
   "outputs": [
    {
     "data": {
      "text/plain": [
       "True"
      ]
     },
     "execution_count": 7,
     "metadata": {},
     "output_type": "execute_result"
    }
   ],
   "source": [
    "array = [1,2,3,4,5,6]\n",
    "monotonicCheck(array)\n"
   ]
  },
  {
   "cell_type": "code",
   "execution_count": 8,
   "id": "9f717c1d",
   "metadata": {},
   "outputs": [
    {
     "data": {
      "text/plain": [
       "True"
      ]
     },
     "execution_count": 8,
     "metadata": {},
     "output_type": "execute_result"
    }
   ],
   "source": [
    "array = [6,5,4,3,2,1]\n",
    "monotonicCheck(array)"
   ]
  },
  {
   "cell_type": "code",
   "execution_count": 9,
   "id": "763f4235",
   "metadata": {},
   "outputs": [
    {
     "data": {
      "text/plain": [
       "False"
      ]
     },
     "execution_count": 9,
     "metadata": {},
     "output_type": "execute_result"
    }
   ],
   "source": [
    "array = [-6,-5,-4,3,2,1]\n",
    "monotonicCheck(array)"
   ]
  },
  {
   "cell_type": "code",
   "execution_count": null,
   "id": "76711cf4",
   "metadata": {},
   "outputs": [],
   "source": []
  }
 ],
 "metadata": {
  "kernelspec": {
   "display_name": "Python 3 (ipykernel)",
   "language": "python",
   "name": "python3"
  },
  "language_info": {
   "codemirror_mode": {
    "name": "ipython",
    "version": 3
   },
   "file_extension": ".py",
   "mimetype": "text/x-python",
   "name": "python",
   "nbconvert_exporter": "python",
   "pygments_lexer": "ipython3",
   "version": "3.9.7"
  }
 },
 "nbformat": 4,
 "nbformat_minor": 5
}
