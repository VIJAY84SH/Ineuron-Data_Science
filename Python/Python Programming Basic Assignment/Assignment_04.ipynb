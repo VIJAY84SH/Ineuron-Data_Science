{
 "cells": [
  {
   "cell_type": "markdown",
   "id": "559f3e10",
   "metadata": {},
   "source": [
    "# Q. 1. Write a Python Program to Find the Factorial of a Number?"
   ]
  },
  {
   "cell_type": "code",
   "execution_count": 11,
   "id": "deeb0d32",
   "metadata": {},
   "outputs": [
    {
     "name": "stdout",
     "output_type": "stream",
     "text": [
      "Enter the number : 5\n",
      "\n",
      " Factorial is :  120\n"
     ]
    }
   ],
   "source": [
    "num = int(input('Enter the number : '))\n",
    "\n",
    "fact = 1\n",
    "\n",
    "for i in range(num,0,-1):\n",
    "    fact = fact*i\n",
    "print('\\n Factorial is : ',fact)"
   ]
  },
  {
   "cell_type": "markdown",
   "id": "429314a3",
   "metadata": {},
   "source": [
    "# Q. 2. Write a Python Program to Display the multiplication Table?"
   ]
  },
  {
   "cell_type": "code",
   "execution_count": 17,
   "id": "950f04fb",
   "metadata": {},
   "outputs": [
    {
     "name": "stdout",
     "output_type": "stream",
     "text": [
      "Enter the number: 2\n",
      "2 * 1 = 2\n",
      "2 * 2 = 4\n",
      "2 * 3 = 6\n",
      "2 * 4 = 8\n",
      "2 * 5 = 10\n",
      "2 * 6 = 12\n",
      "2 * 7 = 14\n",
      "2 * 8 = 16\n",
      "2 * 9 = 18\n",
      "2 * 10 = 20\n"
     ]
    }
   ],
   "source": [
    "num = int(input('Enter the number: '))\n",
    "\n",
    "for i in range(1,11):\n",
    "    print('{} * {} = {}'.format(num,i,num*i))\n",
    "   "
   ]
  },
  {
   "cell_type": "markdown",
   "id": "40625fe3",
   "metadata": {},
   "source": [
    "# Q. 3. Write a Python Program to Print the Fibonacci sequence?"
   ]
  },
  {
   "cell_type": "code",
   "execution_count": 6,
   "id": "502a37fe",
   "metadata": {},
   "outputs": [
    {
     "name": "stdout",
     "output_type": "stream",
     "text": [
      "Enter the number to find fibonacci series: 8\n",
      "fabonacci series up to :  8\n",
      "0 1 1 2 3 5 8 13 21 "
     ]
    }
   ],
   "source": [
    "num = int(input('Enter the number to find fibonacci series: '))\n",
    "count = 0\n",
    "f1 =0\n",
    "f2= 1\n",
    "\n",
    "if num <= 0:\n",
    "    print('Enter the positive number.')\n",
    "elif num == 1:\n",
    "    print(f1)\n",
    "else:\n",
    "    print('fabonacci series up to : ',num)\n",
    "    while count<= num:\n",
    "        print(f1, end = \" \")\n",
    "        f = f1+f2\n",
    "        f1,f2 = f2,f\n",
    "        count+=1\n"
   ]
  },
  {
   "cell_type": "markdown",
   "id": "924d91be",
   "metadata": {},
   "source": [
    "# Q. 4. Write a Python Program to Check Armstrong Number?"
   ]
  },
  {
   "cell_type": "code",
   "execution_count": 6,
   "id": "47d68ee5",
   "metadata": {},
   "outputs": [
    {
     "name": "stdout",
     "output_type": "stream",
     "text": [
      "Enter the number : 153\n",
      "Number is armstrong number\n"
     ]
    }
   ],
   "source": [
    "num = int(input(\"Enter the number : \"))\n",
    "\n",
    "power = len(str(num))\n",
    "\n",
    "temp = num\n",
    "sum = 0\n",
    "while temp > 0:\n",
    "    digit = temp % 10\n",
    "    sum = sum + digit ** power\n",
    "    temp = temp//10\n",
    "if num == sum :\n",
    "    print(\"Number is armstrong number\")\n",
    "else:\n",
    "    print(\"Not an armstrong number\")"
   ]
  },
  {
   "cell_type": "markdown",
   "id": "b86137f2",
   "metadata": {},
   "source": [
    "# Q. 5. Write a Python Program to Find Armstrong Number in an Interval?"
   ]
  },
  {
   "cell_type": "code",
   "execution_count": 9,
   "id": "8981011a",
   "metadata": {},
   "outputs": [
    {
     "name": "stdout",
     "output_type": "stream",
     "text": [
      "Lower limit : 100\n",
      "Upper limit : 400\n",
      "153\n",
      "370\n",
      "371\n"
     ]
    }
   ],
   "source": [
    "low = int(input(\"Lower limit : \"))\n",
    "up = int(input(\"Upper limit : \"))\n",
    "\n",
    "\n",
    "for num in range(low,up+1):\n",
    "    power = len(str(num))\n",
    "    temp = num\n",
    "    sum = 0\n",
    "    while temp > 0:\n",
    "        digit = temp % 10\n",
    "        sum = sum + digit ** power\n",
    "        temp = temp//10\n",
    "    if num == sum :\n",
    "        print(num)"
   ]
  },
  {
   "cell_type": "markdown",
   "id": "c3f11fb6",
   "metadata": {},
   "source": [
    "# 6. Write a Python Program to Find the Sum of Natural Numbers?"
   ]
  },
  {
   "cell_type": "code",
   "execution_count": 17,
   "id": "3f543224",
   "metadata": {},
   "outputs": [
    {
     "name": "stdout",
     "output_type": "stream",
     "text": [
      "Enter the number: 5\n",
      "sum of natural numbers up to 5 is 15\n"
     ]
    }
   ],
   "source": [
    "num = int(input('Enter the number: '))\n",
    "sum = 0\n",
    "for i in range(0, num+1):\n",
    "    sum+=i\n",
    "print('sum of natural numbers up to {} is {}'.format(num,sum))"
   ]
  },
  {
   "cell_type": "code",
   "execution_count": null,
   "id": "6dfd9e9e",
   "metadata": {},
   "outputs": [],
   "source": []
  }
 ],
 "metadata": {
  "kernelspec": {
   "display_name": "Python 3 (ipykernel)",
   "language": "python",
   "name": "python3"
  },
  "language_info": {
   "codemirror_mode": {
    "name": "ipython",
    "version": 3
   },
   "file_extension": ".py",
   "mimetype": "text/x-python",
   "name": "python",
   "nbconvert_exporter": "python",
   "pygments_lexer": "ipython3",
   "version": "3.9.7"
  }
 },
 "nbformat": 4,
 "nbformat_minor": 5
}
