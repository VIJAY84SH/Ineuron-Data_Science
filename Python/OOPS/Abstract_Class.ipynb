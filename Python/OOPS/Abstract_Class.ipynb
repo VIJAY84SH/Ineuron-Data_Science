{
 "cells": [
  {
   "cell_type": "code",
   "execution_count": 1,
   "id": "7d6bb6c6",
   "metadata": {},
   "outputs": [
    {
     "ename": "TypeError",
     "evalue": "Can't instantiate abstract class Demo with abstract method show",
     "output_type": "error",
     "traceback": [
      "\u001b[1;31m---------------------------------------------------------------------------\u001b[0m",
      "\u001b[1;31mTypeError\u001b[0m                                 Traceback (most recent call last)",
      "\u001b[1;32m~\\AppData\\Local\\Temp/ipykernel_8472/2140916307.py\u001b[0m in \u001b[0;36m<module>\u001b[1;34m\u001b[0m\n\u001b[0;32m     13\u001b[0m         \u001b[0mprint\u001b[0m\u001b[1;33m(\u001b[0m\u001b[1;34m\"Abstrct Method\"\u001b[0m\u001b[1;33m)\u001b[0m\u001b[1;33m\u001b[0m\u001b[1;33m\u001b[0m\u001b[0m\n\u001b[0;32m     14\u001b[0m \u001b[1;33m\u001b[0m\u001b[0m\n\u001b[1;32m---> 15\u001b[1;33m \u001b[0mobj\u001b[0m \u001b[1;33m=\u001b[0m \u001b[0mDemo\u001b[0m\u001b[1;33m(\u001b[0m\u001b[1;33m)\u001b[0m\u001b[1;33m\u001b[0m\u001b[1;33m\u001b[0m\u001b[0m\n\u001b[0m",
      "\u001b[1;31mTypeError\u001b[0m: Can't instantiate abstract class Demo with abstract method show"
     ]
    }
   ],
   "source": [
    "from abc import ABC, abstractmethod\n",
    "class AbstractDemo(ABC):\n",
    "    @abstractmethod\n",
    "    def display(self):\n",
    "        None\n",
    "    \n",
    "    @abstractmethod\n",
    "    def show (self):\n",
    "        None\n",
    "        \n",
    "class Demo (AbstractDemo):\n",
    "    def display(self):\n",
    "        print(\"Abstrct Method\")\n",
    "\n",
    "obj = Demo()"
   ]
  },
  {
   "cell_type": "markdown",
   "id": "331eb5fa",
   "metadata": {},
   "source": [
    "### As we run above code and we have created object (obj) of Demo class but  it is not going to create because whatever the abstract method are in abstrct class that all are not implimented in demo class. so it is not able to create object of demo class."
   ]
  },
  {
   "cell_type": "code",
   "execution_count": 7,
   "id": "59269a0b",
   "metadata": {},
   "outputs": [],
   "source": [
    "from abc import ABC, abstractmethod\n",
    "class AbstractDemo(ABC):      # Abstrct class\n",
    "    @abstractmethod           # Abstrct Method\n",
    "    def display(self):\n",
    "        None\n",
    "    \n",
    "    @abstractmethod           # Abstrct Method\n",
    "    def show (self):\n",
    "        None\n",
    "        \n",
    "class Demo (AbstractDemo):    # Abstrct class :  bcz only one method has been impliment \n",
    "    def display(self):\n",
    "        print(\"Abstrct Method\")\n",
    "\n",
    "class Demo1 (AbstractDemo):   # Concrete class : All the methods are implimented\n",
    "    def display(self):\n",
    "        print(\"display method\")\n",
    "        \n",
    "    def show(self):\n",
    "        print(\"show method\")\n",
    "        \n",
    "obj = Demo1()"
   ]
  },
  {
   "cell_type": "code",
   "execution_count": 10,
   "id": "5305bacc",
   "metadata": {},
   "outputs": [
    {
     "name": "stdout",
     "output_type": "stream",
     "text": [
      "display method\n"
     ]
    }
   ],
   "source": [
    "obj.display()"
   ]
  },
  {
   "cell_type": "code",
   "execution_count": 11,
   "id": "f062c99e",
   "metadata": {},
   "outputs": [
    {
     "name": "stdout",
     "output_type": "stream",
     "text": [
      "show method\n"
     ]
    }
   ],
   "source": [
    "obj.show()"
   ]
  },
  {
   "cell_type": "code",
   "execution_count": null,
   "id": "6ad8d131",
   "metadata": {},
   "outputs": [],
   "source": []
  }
 ],
 "metadata": {
  "kernelspec": {
   "display_name": "Python 3 (ipykernel)",
   "language": "python",
   "name": "python3"
  },
  "language_info": {
   "codemirror_mode": {
    "name": "ipython",
    "version": 3
   },
   "file_extension": ".py",
   "mimetype": "text/x-python",
   "name": "python",
   "nbconvert_exporter": "python",
   "pygments_lexer": "ipython3",
   "version": "3.9.7"
  }
 },
 "nbformat": 4,
 "nbformat_minor": 5
}
